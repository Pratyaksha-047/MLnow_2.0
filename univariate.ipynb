{
  "nbformat": 4,
  "nbformat_minor": 0,
  "metadata": {
    "colab": {
      "name": "univariate.ipynb",
      "provenance": [],
      "collapsed_sections": [],
      "mount_file_id": "1gtFpVr9xHjSSf3i8BihfFHm2KoQ-cCDU",
      "authorship_tag": "ABX9TyO2Nrx7bGEh9A7vVF3xoe+9",
      "include_colab_link": true
    },
    "kernelspec": {
      "name": "python3",
      "display_name": "Python 3"
    },
    "language_info": {
      "name": "python"
    }
  },
  "cells": [
    {
      "cell_type": "markdown",
      "metadata": {
        "id": "view-in-github",
        "colab_type": "text"
      },
      "source": [
        "<a href=\"https://colab.research.google.com/github/Pratyaksha-047/MLnow_2.0/blob/main/univariate.ipynb\" target=\"_parent\"><img src=\"https://colab.research.google.com/assets/colab-badge.svg\" alt=\"Open In Colab\"/></a>"
      ]
    },
    {
      "cell_type": "code",
      "metadata": {
        "id": "8ItPSm04Aqte"
      },
      "source": [
        "import pandas as pd\n",
        "import numpy as np\n",
        "import tensorflow as tf\n",
        "from tensorflow import keras\n",
        "import os"
      ],
      "execution_count": 2,
      "outputs": []
    },
    {
      "cell_type": "code",
      "metadata": {
        "id": "xEHswDGhCSY1"
      },
      "source": [
        "df = pd.read_csv('/content/drive/MyDrive/Colab Notebooks/student (1).zip (Unzipped Files)/student-mat.csv', sep=';')"
      ],
      "execution_count": 3,
      "outputs": []
    },
    {
      "cell_type": "code",
      "metadata": {
        "colab": {
          "base_uri": "https://localhost:8080/",
          "height": 223
        },
        "id": "fYSJ93nmCtSi",
        "outputId": "3b40802f-8377-4dcd-d701-9f7743e7ca0d"
      },
      "source": [
        "df.head()"
      ],
      "execution_count": 4,
      "outputs": [
        {
          "output_type": "execute_result",
          "data": {
            "text/html": [
              "<div>\n",
              "<style scoped>\n",
              "    .dataframe tbody tr th:only-of-type {\n",
              "        vertical-align: middle;\n",
              "    }\n",
              "\n",
              "    .dataframe tbody tr th {\n",
              "        vertical-align: top;\n",
              "    }\n",
              "\n",
              "    .dataframe thead th {\n",
              "        text-align: right;\n",
              "    }\n",
              "</style>\n",
              "<table border=\"1\" class=\"dataframe\">\n",
              "  <thead>\n",
              "    <tr style=\"text-align: right;\">\n",
              "      <th></th>\n",
              "      <th>school</th>\n",
              "      <th>sex</th>\n",
              "      <th>age</th>\n",
              "      <th>address</th>\n",
              "      <th>famsize</th>\n",
              "      <th>Pstatus</th>\n",
              "      <th>Medu</th>\n",
              "      <th>Fedu</th>\n",
              "      <th>Mjob</th>\n",
              "      <th>Fjob</th>\n",
              "      <th>reason</th>\n",
              "      <th>guardian</th>\n",
              "      <th>traveltime</th>\n",
              "      <th>studytime</th>\n",
              "      <th>failures</th>\n",
              "      <th>schoolsup</th>\n",
              "      <th>famsup</th>\n",
              "      <th>paid</th>\n",
              "      <th>activities</th>\n",
              "      <th>nursery</th>\n",
              "      <th>higher</th>\n",
              "      <th>internet</th>\n",
              "      <th>romantic</th>\n",
              "      <th>famrel</th>\n",
              "      <th>freetime</th>\n",
              "      <th>goout</th>\n",
              "      <th>Dalc</th>\n",
              "      <th>Walc</th>\n",
              "      <th>health</th>\n",
              "      <th>absences</th>\n",
              "      <th>G1</th>\n",
              "      <th>G2</th>\n",
              "      <th>G3</th>\n",
              "    </tr>\n",
              "  </thead>\n",
              "  <tbody>\n",
              "    <tr>\n",
              "      <th>0</th>\n",
              "      <td>GP</td>\n",
              "      <td>F</td>\n",
              "      <td>18</td>\n",
              "      <td>U</td>\n",
              "      <td>GT3</td>\n",
              "      <td>A</td>\n",
              "      <td>4</td>\n",
              "      <td>4</td>\n",
              "      <td>at_home</td>\n",
              "      <td>teacher</td>\n",
              "      <td>course</td>\n",
              "      <td>mother</td>\n",
              "      <td>2</td>\n",
              "      <td>2</td>\n",
              "      <td>0</td>\n",
              "      <td>yes</td>\n",
              "      <td>no</td>\n",
              "      <td>no</td>\n",
              "      <td>no</td>\n",
              "      <td>yes</td>\n",
              "      <td>yes</td>\n",
              "      <td>no</td>\n",
              "      <td>no</td>\n",
              "      <td>4</td>\n",
              "      <td>3</td>\n",
              "      <td>4</td>\n",
              "      <td>1</td>\n",
              "      <td>1</td>\n",
              "      <td>3</td>\n",
              "      <td>6</td>\n",
              "      <td>5</td>\n",
              "      <td>6</td>\n",
              "      <td>6</td>\n",
              "    </tr>\n",
              "    <tr>\n",
              "      <th>1</th>\n",
              "      <td>GP</td>\n",
              "      <td>F</td>\n",
              "      <td>17</td>\n",
              "      <td>U</td>\n",
              "      <td>GT3</td>\n",
              "      <td>T</td>\n",
              "      <td>1</td>\n",
              "      <td>1</td>\n",
              "      <td>at_home</td>\n",
              "      <td>other</td>\n",
              "      <td>course</td>\n",
              "      <td>father</td>\n",
              "      <td>1</td>\n",
              "      <td>2</td>\n",
              "      <td>0</td>\n",
              "      <td>no</td>\n",
              "      <td>yes</td>\n",
              "      <td>no</td>\n",
              "      <td>no</td>\n",
              "      <td>no</td>\n",
              "      <td>yes</td>\n",
              "      <td>yes</td>\n",
              "      <td>no</td>\n",
              "      <td>5</td>\n",
              "      <td>3</td>\n",
              "      <td>3</td>\n",
              "      <td>1</td>\n",
              "      <td>1</td>\n",
              "      <td>3</td>\n",
              "      <td>4</td>\n",
              "      <td>5</td>\n",
              "      <td>5</td>\n",
              "      <td>6</td>\n",
              "    </tr>\n",
              "    <tr>\n",
              "      <th>2</th>\n",
              "      <td>GP</td>\n",
              "      <td>F</td>\n",
              "      <td>15</td>\n",
              "      <td>U</td>\n",
              "      <td>LE3</td>\n",
              "      <td>T</td>\n",
              "      <td>1</td>\n",
              "      <td>1</td>\n",
              "      <td>at_home</td>\n",
              "      <td>other</td>\n",
              "      <td>other</td>\n",
              "      <td>mother</td>\n",
              "      <td>1</td>\n",
              "      <td>2</td>\n",
              "      <td>3</td>\n",
              "      <td>yes</td>\n",
              "      <td>no</td>\n",
              "      <td>yes</td>\n",
              "      <td>no</td>\n",
              "      <td>yes</td>\n",
              "      <td>yes</td>\n",
              "      <td>yes</td>\n",
              "      <td>no</td>\n",
              "      <td>4</td>\n",
              "      <td>3</td>\n",
              "      <td>2</td>\n",
              "      <td>2</td>\n",
              "      <td>3</td>\n",
              "      <td>3</td>\n",
              "      <td>10</td>\n",
              "      <td>7</td>\n",
              "      <td>8</td>\n",
              "      <td>10</td>\n",
              "    </tr>\n",
              "    <tr>\n",
              "      <th>3</th>\n",
              "      <td>GP</td>\n",
              "      <td>F</td>\n",
              "      <td>15</td>\n",
              "      <td>U</td>\n",
              "      <td>GT3</td>\n",
              "      <td>T</td>\n",
              "      <td>4</td>\n",
              "      <td>2</td>\n",
              "      <td>health</td>\n",
              "      <td>services</td>\n",
              "      <td>home</td>\n",
              "      <td>mother</td>\n",
              "      <td>1</td>\n",
              "      <td>3</td>\n",
              "      <td>0</td>\n",
              "      <td>no</td>\n",
              "      <td>yes</td>\n",
              "      <td>yes</td>\n",
              "      <td>yes</td>\n",
              "      <td>yes</td>\n",
              "      <td>yes</td>\n",
              "      <td>yes</td>\n",
              "      <td>yes</td>\n",
              "      <td>3</td>\n",
              "      <td>2</td>\n",
              "      <td>2</td>\n",
              "      <td>1</td>\n",
              "      <td>1</td>\n",
              "      <td>5</td>\n",
              "      <td>2</td>\n",
              "      <td>15</td>\n",
              "      <td>14</td>\n",
              "      <td>15</td>\n",
              "    </tr>\n",
              "    <tr>\n",
              "      <th>4</th>\n",
              "      <td>GP</td>\n",
              "      <td>F</td>\n",
              "      <td>16</td>\n",
              "      <td>U</td>\n",
              "      <td>GT3</td>\n",
              "      <td>T</td>\n",
              "      <td>3</td>\n",
              "      <td>3</td>\n",
              "      <td>other</td>\n",
              "      <td>other</td>\n",
              "      <td>home</td>\n",
              "      <td>father</td>\n",
              "      <td>1</td>\n",
              "      <td>2</td>\n",
              "      <td>0</td>\n",
              "      <td>no</td>\n",
              "      <td>yes</td>\n",
              "      <td>yes</td>\n",
              "      <td>no</td>\n",
              "      <td>yes</td>\n",
              "      <td>yes</td>\n",
              "      <td>no</td>\n",
              "      <td>no</td>\n",
              "      <td>4</td>\n",
              "      <td>3</td>\n",
              "      <td>2</td>\n",
              "      <td>1</td>\n",
              "      <td>2</td>\n",
              "      <td>5</td>\n",
              "      <td>4</td>\n",
              "      <td>6</td>\n",
              "      <td>10</td>\n",
              "      <td>10</td>\n",
              "    </tr>\n",
              "  </tbody>\n",
              "</table>\n",
              "</div>"
            ],
            "text/plain": [
              "  school sex  age address famsize Pstatus  ...  Walc  health absences  G1  G2  G3\n",
              "0     GP   F   18       U     GT3       A  ...     1       3        6   5   6   6\n",
              "1     GP   F   17       U     GT3       T  ...     1       3        4   5   5   6\n",
              "2     GP   F   15       U     LE3       T  ...     3       3       10   7   8  10\n",
              "3     GP   F   15       U     GT3       T  ...     1       5        2  15  14  15\n",
              "4     GP   F   16       U     GT3       T  ...     2       5        4   6  10  10\n",
              "\n",
              "[5 rows x 33 columns]"
            ]
          },
          "metadata": {
            "tags": []
          },
          "execution_count": 4
        }
      ]
    },
    {
      "cell_type": "markdown",
      "metadata": {
        "id": "Nxug02-7dju3"
      },
      "source": [
        "$G3_i = G1_i  \\cdot \\theta_1 + \\theta_0$"
      ]
    },
    {
      "cell_type": "code",
      "metadata": {
        "id": "y6TirsOPDOa_",
        "colab": {
          "base_uri": "https://localhost:8080/",
          "height": 203
        },
        "outputId": "aa265cb6-c36f-4e36-8f00-a5dc40f09305"
      },
      "source": [
        "uniMathData = df[['G1', 'G3']]\n",
        "uniMathData.head()"
      ],
      "execution_count": 5,
      "outputs": [
        {
          "output_type": "execute_result",
          "data": {
            "text/html": [
              "<div>\n",
              "<style scoped>\n",
              "    .dataframe tbody tr th:only-of-type {\n",
              "        vertical-align: middle;\n",
              "    }\n",
              "\n",
              "    .dataframe tbody tr th {\n",
              "        vertical-align: top;\n",
              "    }\n",
              "\n",
              "    .dataframe thead th {\n",
              "        text-align: right;\n",
              "    }\n",
              "</style>\n",
              "<table border=\"1\" class=\"dataframe\">\n",
              "  <thead>\n",
              "    <tr style=\"text-align: right;\">\n",
              "      <th></th>\n",
              "      <th>G1</th>\n",
              "      <th>G3</th>\n",
              "    </tr>\n",
              "  </thead>\n",
              "  <tbody>\n",
              "    <tr>\n",
              "      <th>0</th>\n",
              "      <td>5</td>\n",
              "      <td>6</td>\n",
              "    </tr>\n",
              "    <tr>\n",
              "      <th>1</th>\n",
              "      <td>5</td>\n",
              "      <td>6</td>\n",
              "    </tr>\n",
              "    <tr>\n",
              "      <th>2</th>\n",
              "      <td>7</td>\n",
              "      <td>10</td>\n",
              "    </tr>\n",
              "    <tr>\n",
              "      <th>3</th>\n",
              "      <td>15</td>\n",
              "      <td>15</td>\n",
              "    </tr>\n",
              "    <tr>\n",
              "      <th>4</th>\n",
              "      <td>6</td>\n",
              "      <td>10</td>\n",
              "    </tr>\n",
              "  </tbody>\n",
              "</table>\n",
              "</div>"
            ],
            "text/plain": [
              "   G1  G3\n",
              "0   5   6\n",
              "1   5   6\n",
              "2   7  10\n",
              "3  15  15\n",
              "4   6  10"
            ]
          },
          "metadata": {
            "tags": []
          },
          "execution_count": 5
        }
      ]
    },
    {
      "cell_type": "code",
      "metadata": {
        "colab": {
          "base_uri": "https://localhost:8080/",
          "height": 85
        },
        "id": "EvSAexV0dV4D",
        "outputId": "83a035a3-8915-47c0-e245-4b8cbae381b9"
      },
      "source": [
        "import seaborn as sns\n",
        "sns.palplot(sns.color_palette('YlGnBu_r'))\n",
        "pal = sns.color_palette('YlGnBu_r')\n",
        "pal.as_hex()\n",
        "\n",
        "import matplotlib.pyplot as plt\n",
        "plt.style.use(['seaborn'])\n",
        "sns.set_palette('YlGnBu_r')\n"
      ],
      "execution_count": 10,
      "outputs": [
        {
          "output_type": "display_data",
          "data": {
            "image/png": "[encoded data removed]",
            "text/plain": [
              "<Figure size 432x72 with 1 Axes>"
            ]
          },
          "metadata": {
            "tags": []
          }
        }
      ]
    },
    {
      "cell_type": "code",
      "metadata": {
        "colab": {
          "base_uri": "https://localhost:8080/",
          "height": 391
        },
        "id": "g6IVvUi1d0oL",
        "outputId": "470d76b3-2d69-40a8-cd6f-4513c6d2e12b"
      },
      "source": [
        "sns.pairplot(df,x_vars = ['G1', 'G3'],y_vars =  ['G1', 'G3'],diag_kind='kde')"
      ],
      "execution_count": 13,
      "outputs": [
        {
          "output_type": "execute_result",
          "data": {
            "text/plain": [
              "<seaborn.axisgrid.PairGrid at 0x7fb9531adb90>"
            ]
          },
          "metadata": {
            "tags": []
          },
          "execution_count": 13
        },
        {
          "output_type": "display_data",
          "data": {
            "image/png": "[encoded data removed]",
            "text/plain": [
              "<Figure size 360x360 with 6 Axes>"
            ]
          },
          "metadata": {
            "tags": []
          }
        }
      ]
    },
    {
      "cell_type": "code",
      "metadata": {
        "colab": {
          "base_uri": "https://localhost:8080/"
        },
        "id": "tfBSbhHmeb7y",
        "outputId": "be5784a3-5381-44a6-b39b-5141a49282be"
      },
      "source": [
        "trainDataset = uniMathData.sample(frac=0.8, random_state=0) \n",
        "testDataset = uniMathData.drop(trainDataset.index)\n",
        "\n",
        "print(trainDataset.head())\n",
        "print(testDataset.head())"
      ],
      "execution_count": 15,
      "outputs": [
        {
          "output_type": "stream",
          "text": [
            "     G1  G3\n",
            "329  14  14\n",
            "318  11  10\n",
            "317   9   9\n",
            "65   16  15\n",
            "59   15  16\n",
            "    G1  G3\n",
            "9   14  15\n",
            "25   6   8\n",
            "28  11  11\n",
            "31  17  17\n",
            "32  17  16\n"
          ],
          "name": "stdout"
        }
      ]
    },
    {
      "cell_type": "code",
      "metadata": {
        "id": "puR3PqIKfxO0"
      },
      "source": [
        "trainFeatures = trainDataset.copy()\n",
        "testFeatures = testDataset.copy()"
      ],
      "execution_count": 16,
      "outputs": []
    },
    {
      "cell_type": "code",
      "metadata": {
        "colab": {
          "base_uri": "https://localhost:8080/"
        },
        "id": "STcBEchIgMXs",
        "outputId": "032132e3-b73a-419b-bffe-1e44b5292a76"
      },
      "source": [
        "trainLabels = trainFeatures.pop('G3')\n",
        "testLabels = testFeatures.pop('G3')\n",
        "\n",
        "print(trainLabels.head())\n",
        "print(testLabels.head())"
      ],
      "execution_count": 17,
      "outputs": [
        {
          "output_type": "stream",
          "text": [
            "329    14\n",
            "318    10\n",
            "317     9\n",
            "65     15\n",
            "59     16\n",
            "Name: G3, dtype: int64\n",
            "9     15\n",
            "25     8\n",
            "28    11\n",
            "31    17\n",
            "32    16\n",
            "Name: G3, dtype: int64\n"
          ],
          "name": "stdout"
        }
      ]
    },
    {
      "cell_type": "code",
      "metadata": {
        "id": "Ua2GuGAdgQEB"
      },
      "source": [
        "model = tf.keras.Sequential([tf.keras.layers.Dense(1)])"
      ],
      "execution_count": 18,
      "outputs": []
    },
    {
      "cell_type": "code",
      "metadata": {
        "id": "HNnaahiGgXLn"
      },
      "source": [
        "model.compile(loss = 'mean_absolute_error',optimizer = tf.keras.optimizers.Adam(0.001),metrics = ['mae', 'mse'] )"
      ],
      "execution_count": 19,
      "outputs": []
    },
    {
      "cell_type": "code",
      "metadata": {
        "colab": {
          "base_uri": "https://localhost:8080/"
        },
        "id": "b-Cr8DI4gjxe",
        "outputId": "f17d9bef-8419-4147-8162-247aaf5b5eb3"
      },
      "source": [
        "numEpochs = 300\n",
        "history = model.fit(x = trainFeatures, y = trainLabels, validation_data = (testFeatures, testLabels), epochs = numEpochs)"
      ],
      "execution_count": 20,
      "outputs": [
        {
          "output_type": "stream",
          "text": [
            "Epoch 1/300\n",
            "10/10 [==============================] - 1s 23ms/step - loss: 14.5105 - mae: 14.5105 - mse: 242.2515 - val_loss: 15.2718 - val_mae: 15.2718 - val_mse: 266.2913\n",
            "Epoch 2/300\n",
            "10/10 [==============================] - 0s 4ms/step - loss: 14.3931 - mae: 14.3931 - mse: 238.5554 - val_loss: 15.1471 - val_mae: 15.1471 - val_mse: 262.1389\n",
            "Epoch 3/300\n",
            "10/10 [==============================] - 0s 5ms/step - loss: 14.2749 - mae: 14.2749 - mse: 234.8462 - val_loss: 15.0226 - val_mae: 15.0226 - val_mse: 258.0288\n",
            "Epoch 4/300\n",
            "10/10 [==============================] - 0s 4ms/step - loss: 14.1579 - mae: 14.1579 - mse: 231.2071 - val_loss: 14.8978 - val_mae: 14.8978 - val_mse: 253.9387\n",
            "Epoch 5/300\n",
            "10/10 [==============================] - 0s 4ms/step - loss: 14.0401 - mae: 14.0401 - mse: 227.6075 - val_loss: 14.7731 - val_mae: 14.7731 - val_mse: 249.8893\n",
            "Epoch 6/300\n",
            "10/10 [==============================] - 0s 4ms/step - loss: 13.9219 - mae: 13.9219 - mse: 223.9211 - val_loss: 14.6490 - val_mae: 14.6490 - val_mse: 245.8893\n",
            "Epoch 7/300\n",
            "10/10 [==============================] - 0s 5ms/step - loss: 13.8051 - mae: 13.8051 - mse: 220.4003 - val_loss: 14.5241 - val_mae: 14.5241 - val_mse: 241.8991\n",
            "Epoch 8/300\n",
            "10/10 [==============================] - 0s 8ms/step - loss: 13.6871 - mae: 13.6871 - mse: 216.8666 - val_loss: 14.3998 - val_mae: 14.3998 - val_mse: 237.9626\n",
            "Epoch 9/300\n",
            "10/10 [==============================] - 0s 7ms/step - loss: 13.5700 - mae: 13.5700 - mse: 213.3763 - val_loss: 14.2751 - val_mae: 14.2751 - val_mse: 234.0442\n",
            "Epoch 10/300\n",
            "10/10 [==============================] - 0s 4ms/step - loss: 13.4521 - mae: 13.4521 - mse: 209.8986 - val_loss: 14.1507 - val_mae: 14.1507 - val_mse: 230.1706\n",
            "Epoch 11/300\n",
            "10/10 [==============================] - 0s 4ms/step - loss: 13.3350 - mae: 13.3350 - mse: 206.4684 - val_loss: 14.0259 - val_mae: 14.0259 - val_mse: 226.3175\n",
            "Epoch 12/300\n",
            "10/10 [==============================] - 0s 4ms/step - loss: 13.2174 - mae: 13.2174 - mse: 203.0403 - val_loss: 13.9012 - val_mae: 13.9012 - val_mse: 222.4977\n",
            "Epoch 13/300\n",
            "10/10 [==============================] - 0s 4ms/step - loss: 13.0996 - mae: 13.0996 - mse: 199.6625 - val_loss: 13.7766 - val_mae: 13.7766 - val_mse: 218.7186\n",
            "Epoch 14/300\n",
            "10/10 [==============================] - 0s 4ms/step - loss: 12.9819 - mae: 12.9819 - mse: 196.2675 - val_loss: 13.6524 - val_mae: 13.6524 - val_mse: 214.9824\n",
            "Epoch 15/300\n",
            "10/10 [==============================] - 0s 4ms/step - loss: 12.8645 - mae: 12.8645 - mse: 192.9490 - val_loss: 13.5281 - val_mae: 13.5281 - val_mse: 211.2784\n",
            "Epoch 16/300\n",
            "10/10 [==============================] - 0s 5ms/step - loss: 12.7471 - mae: 12.7471 - mse: 189.6461 - val_loss: 13.4036 - val_mae: 13.4036 - val_mse: 207.6001\n",
            "Epoch 17/300\n",
            "10/10 [==============================] - 0s 4ms/step - loss: 12.6295 - mae: 12.6295 - mse: 186.3841 - val_loss: 13.2792 - val_mae: 13.2792 - val_mse: 203.9594\n",
            "Epoch 18/300\n",
            "10/10 [==============================] - 0s 4ms/step - loss: 12.5121 - mae: 12.5121 - mse: 183.1396 - val_loss: 13.1547 - val_mae: 13.1547 - val_mse: 200.3478\n",
            "Epoch 19/300\n",
            "10/10 [==============================] - 0s 6ms/step - loss: 12.3948 - mae: 12.3948 - mse: 179.9610 - val_loss: 13.0300 - val_mae: 13.0300 - val_mse: 196.7636\n",
            "Epoch 20/300\n",
            "10/10 [==============================] - 0s 6ms/step - loss: 12.2771 - mae: 12.2771 - mse: 176.7762 - val_loss: 12.9054 - val_mae: 12.9054 - val_mse: 193.2173\n",
            "Epoch 21/300\n",
            "10/10 [==============================] - 0s 6ms/step - loss: 12.1594 - mae: 12.1594 - mse: 173.6089 - val_loss: 12.7811 - val_mae: 12.7811 - val_mse: 189.7103\n",
            "Epoch 22/300\n",
            "10/10 [==============================] - 0s 4ms/step - loss: 12.0424 - mae: 12.0424 - mse: 170.5252 - val_loss: 12.6561 - val_mae: 12.6561 - val_mse: 186.2202\n",
            "Epoch 23/300\n",
            "10/10 [==============================] - 0s 4ms/step - loss: 11.9240 - mae: 11.9240 - mse: 167.3860 - val_loss: 12.5321 - val_mae: 12.5321 - val_mse: 182.7879\n",
            "Epoch 24/300\n",
            "10/10 [==============================] - 0s 4ms/step - loss: 11.8074 - mae: 11.8074 - mse: 164.3844 - val_loss: 12.4071 - val_mae: 12.4071 - val_mse: 179.3645\n",
            "Epoch 25/300\n",
            "10/10 [==============================] - 0s 4ms/step - loss: 11.6893 - mae: 11.6893 - mse: 161.3055 - val_loss: 12.2828 - val_mae: 12.2828 - val_mse: 175.9931\n",
            "Epoch 26/300\n",
            "10/10 [==============================] - 0s 4ms/step - loss: 11.5716 - mae: 11.5716 - mse: 158.3315 - val_loss: 12.1585 - val_mae: 12.1585 - val_mse: 172.6539\n",
            "Epoch 27/300\n",
            "10/10 [==============================] - 0s 4ms/step - loss: 11.4542 - mae: 11.4542 - mse: 155.3366 - val_loss: 12.0341 - val_mae: 12.0341 - val_mse: 169.3434\n",
            "Epoch 28/300\n",
            "10/10 [==============================] - 0s 5ms/step - loss: 11.3373 - mae: 11.3373 - mse: 152.4317 - val_loss: 11.9090 - val_mae: 11.9090 - val_mse: 166.0498\n",
            "Epoch 29/300\n",
            "10/10 [==============================] - 0s 5ms/step - loss: 11.2190 - mae: 11.2190 - mse: 149.4936 - val_loss: 11.7847 - val_mae: 11.7847 - val_mse: 162.8123\n",
            "Epoch 30/300\n",
            "10/10 [==============================] - 0s 6ms/step - loss: 11.1018 - mae: 11.1018 - mse: 146.6441 - val_loss: 11.6601 - val_mae: 11.6601 - val_mse: 159.5979\n",
            "Epoch 31/300\n",
            "10/10 [==============================] - 0s 4ms/step - loss: 10.9839 - mae: 10.9839 - mse: 143.7479 - val_loss: 11.5357 - val_mae: 11.5357 - val_mse: 156.4239\n",
            "Epoch 32/300\n",
            "10/10 [==============================] - 0s 6ms/step - loss: 10.8665 - mae: 10.8665 - mse: 140.9434 - val_loss: 11.4112 - val_mae: 11.4112 - val_mse: 153.2785\n",
            "Epoch 33/300\n",
            "10/10 [==============================] - 0s 3ms/step - loss: 10.7491 - mae: 10.7491 - mse: 138.1657 - val_loss: 11.2868 - val_mae: 11.2868 - val_mse: 150.1716\n",
            "Epoch 34/300\n",
            "10/10 [==============================] - 0s 3ms/step - loss: 10.6325 - mae: 10.6325 - mse: 135.3829 - val_loss: 11.1629 - val_mae: 11.1629 - val_mse: 147.1056\n",
            "Epoch 35/300\n",
            "10/10 [==============================] - 0s 4ms/step - loss: 10.5189 - mae: 10.5189 - mse: 132.6878 - val_loss: 11.0454 - val_mae: 11.0454 - val_mse: 144.1250\n",
            "Epoch 36/300\n",
            "10/10 [==============================] - 0s 4ms/step - loss: 10.4131 - mae: 10.4131 - mse: 130.0758 - val_loss: 10.9397 - val_mae: 10.9397 - val_mse: 141.2597\n",
            "Epoch 37/300\n",
            "10/10 [==============================] - 0s 4ms/step - loss: 10.3147 - mae: 10.3147 - mse: 127.5675 - val_loss: 10.8396 - val_mae: 10.8396 - val_mse: 138.5484\n",
            "Epoch 38/300\n",
            "10/10 [==============================] - 0s 4ms/step - loss: 10.2241 - mae: 10.2241 - mse: 125.1893 - val_loss: 10.7426 - val_mae: 10.7426 - val_mse: 135.9478\n",
            "Epoch 39/300\n",
            "10/10 [==============================] - 0s 4ms/step - loss: 10.1353 - mae: 10.1353 - mse: 122.9056 - val_loss: 10.6467 - val_mae: 10.6467 - val_mse: 133.4009\n",
            "Epoch 40/300\n",
            "10/10 [==============================] - 0s 4ms/step - loss: 10.0471 - mae: 10.0471 - mse: 120.5898 - val_loss: 10.5508 - val_mae: 10.5508 - val_mse: 130.8784\n",
            "Epoch 41/300\n",
            "10/10 [==============================] - 0s 5ms/step - loss: 9.9598 - mae: 9.9598 - mse: 118.3575 - val_loss: 10.4536 - val_mae: 10.4536 - val_mse: 128.3502\n",
            "Epoch 42/300\n",
            "10/10 [==============================] - 0s 4ms/step - loss: 9.8716 - mae: 9.8716 - mse: 116.1500 - val_loss: 10.3562 - val_mae: 10.3562 - val_mse: 125.8411\n",
            "Epoch 43/300\n",
            "10/10 [==============================] - 0s 3ms/step - loss: 9.7838 - mae: 9.7838 - mse: 113.9549 - val_loss: 10.2579 - val_mae: 10.2579 - val_mse: 123.3373\n",
            "Epoch 44/300\n",
            "10/10 [==============================] - 0s 4ms/step - loss: 9.6927 - mae: 9.6927 - mse: 111.7268 - val_loss: 10.1618 - val_mae: 10.1618 - val_mse: 120.9134\n",
            "Epoch 45/300\n",
            "10/10 [==============================] - 0s 4ms/step - loss: 9.6047 - mae: 9.6047 - mse: 109.5506 - val_loss: 10.0642 - val_mae: 10.0642 - val_mse: 118.4786\n",
            "Epoch 46/300\n",
            "10/10 [==============================] - 0s 4ms/step - loss: 9.5155 - mae: 9.5155 - mse: 107.3742 - val_loss: 9.9662 - val_mae: 9.9662 - val_mse: 116.0601\n",
            "Epoch 47/300\n",
            "10/10 [==============================] - 0s 4ms/step - loss: 9.4262 - mae: 9.4262 - mse: 105.2499 - val_loss: 9.8677 - val_mae: 9.8677 - val_mse: 113.6554\n",
            "Epoch 48/300\n",
            "10/10 [==============================] - 0s 4ms/step - loss: 9.3359 - mae: 9.3359 - mse: 103.0861 - val_loss: 9.7695 - val_mae: 9.7695 - val_mse: 111.2857\n",
            "Epoch 49/300\n",
            "10/10 [==============================] - 0s 5ms/step - loss: 9.2462 - mae: 9.2462 - mse: 101.0192 - val_loss: 9.6706 - val_mae: 9.6706 - val_mse: 108.9239\n",
            "Epoch 50/300\n",
            "10/10 [==============================] - 0s 4ms/step - loss: 9.1553 - mae: 9.1553 - mse: 98.9071 - val_loss: 9.5721 - val_mae: 9.5721 - val_mse: 106.5989\n",
            "Epoch 51/300\n",
            "10/10 [==============================] - 0s 5ms/step - loss: 9.0648 - mae: 9.0648 - mse: 96.8095 - val_loss: 9.4732 - val_mae: 9.4732 - val_mse: 104.2939\n",
            "Epoch 52/300\n",
            "10/10 [==============================] - 0s 5ms/step - loss: 8.9740 - mae: 8.9740 - mse: 94.7556 - val_loss: 9.3742 - val_mae: 9.3742 - val_mse: 102.0117\n",
            "Epoch 53/300\n",
            "10/10 [==============================] - 0s 5ms/step - loss: 8.8834 - mae: 8.8834 - mse: 92.7561 - val_loss: 9.2747 - val_mae: 9.2747 - val_mse: 99.7447\n",
            "Epoch 54/300\n",
            "10/10 [==============================] - 0s 6ms/step - loss: 8.7930 - mae: 8.7930 - mse: 90.7399 - val_loss: 9.1742 - val_mae: 9.1742 - val_mse: 97.4834\n",
            "Epoch 55/300\n",
            "10/10 [==============================] - 0s 5ms/step - loss: 8.7021 - mae: 8.7021 - mse: 88.7472 - val_loss: 9.0734 - val_mae: 9.0734 - val_mse: 95.2422\n",
            "Epoch 56/300\n",
            "10/10 [==============================] - 0s 5ms/step - loss: 8.6098 - mae: 8.6098 - mse: 86.7734 - val_loss: 8.9734 - val_mae: 8.9734 - val_mse: 93.0474\n",
            "Epoch 57/300\n",
            "10/10 [==============================] - 0s 5ms/step - loss: 8.5186 - mae: 8.5186 - mse: 84.8310 - val_loss: 8.8729 - val_mae: 8.8729 - val_mse: 90.8681\n",
            "Epoch 58/300\n",
            "10/10 [==============================] - 0s 5ms/step - loss: 8.4251 - mae: 8.4251 - mse: 82.8922 - val_loss: 8.7739 - val_mae: 8.7739 - val_mse: 88.7483\n",
            "Epoch 59/300\n",
            "10/10 [==============================] - 0s 5ms/step - loss: 8.3353 - mae: 8.3353 - mse: 81.0054 - val_loss: 8.6723 - val_mae: 8.6723 - val_mse: 86.6031\n",
            "Epoch 60/300\n",
            "10/10 [==============================] - 0s 5ms/step - loss: 8.2418 - mae: 8.2418 - mse: 79.0838 - val_loss: 8.5721 - val_mae: 8.5721 - val_mse: 84.5147\n",
            "Epoch 61/300\n",
            "10/10 [==============================] - 0s 6ms/step - loss: 8.1510 - mae: 8.1510 - mse: 77.2404 - val_loss: 8.4702 - val_mae: 8.4702 - val_mse: 82.4169\n",
            "Epoch 62/300\n",
            "10/10 [==============================] - 0s 6ms/step - loss: 8.0573 - mae: 8.0573 - mse: 75.3729 - val_loss: 8.3693 - val_mae: 8.3693 - val_mse: 80.3710\n",
            "Epoch 63/300\n",
            "10/10 [==============================] - 0s 5ms/step - loss: 7.9648 - mae: 7.9648 - mse: 73.5779 - val_loss: 8.2682 - val_mae: 8.2682 - val_mse: 78.3472\n",
            "Epoch 64/300\n",
            "10/10 [==============================] - 0s 6ms/step - loss: 7.8727 - mae: 7.8727 - mse: 71.7938 - val_loss: 8.1662 - val_mae: 8.1662 - val_mse: 76.3338\n",
            "Epoch 65/300\n",
            "10/10 [==============================] - 0s 5ms/step - loss: 7.7788 - mae: 7.7788 - mse: 69.9449 - val_loss: 8.0652 - val_mae: 8.0652 - val_mse: 74.3680\n",
            "Epoch 66/300\n",
            "10/10 [==============================] - 0s 4ms/step - loss: 7.6861 - mae: 7.6861 - mse: 68.2209 - val_loss: 7.9635 - val_mae: 7.9635 - val_mse: 72.4188\n",
            "Epoch 67/300\n",
            "10/10 [==============================] - 0s 4ms/step - loss: 7.5941 - mae: 7.5941 - mse: 66.4949 - val_loss: 7.8605 - val_mae: 7.8605 - val_mse: 70.4722\n",
            "Epoch 68/300\n",
            "10/10 [==============================] - 0s 6ms/step - loss: 7.4996 - mae: 7.4996 - mse: 64.7728 - val_loss: 7.7589 - val_mae: 7.7589 - val_mse: 68.5807\n",
            "Epoch 69/300\n",
            "10/10 [==============================] - 0s 4ms/step - loss: 7.4069 - mae: 7.4069 - mse: 63.1071 - val_loss: 7.6563 - val_mae: 7.6563 - val_mse: 66.7013\n",
            "Epoch 70/300\n",
            "10/10 [==============================] - 0s 5ms/step - loss: 7.3133 - mae: 7.3133 - mse: 61.4528 - val_loss: 7.5539 - val_mae: 7.5539 - val_mse: 64.8523\n",
            "Epoch 71/300\n",
            "10/10 [==============================] - 0s 4ms/step - loss: 7.2189 - mae: 7.2189 - mse: 59.8008 - val_loss: 7.4522 - val_mae: 7.4522 - val_mse: 63.0450\n",
            "Epoch 72/300\n",
            "10/10 [==============================] - 0s 4ms/step - loss: 7.1256 - mae: 7.1256 - mse: 58.1852 - val_loss: 7.3498 - val_mae: 7.3498 - val_mse: 61.2534\n",
            "Epoch 73/300\n",
            "10/10 [==============================] - 0s 3ms/step - loss: 7.0316 - mae: 7.0316 - mse: 56.6092 - val_loss: 7.2472 - val_mae: 7.2472 - val_mse: 59.4886\n",
            "Epoch 74/300\n",
            "10/10 [==============================] - 0s 4ms/step - loss: 6.9388 - mae: 6.9388 - mse: 55.0774 - val_loss: 7.1433 - val_mae: 7.1433 - val_mse: 57.7300\n",
            "Epoch 75/300\n",
            "10/10 [==============================] - 0s 4ms/step - loss: 6.8443 - mae: 6.8443 - mse: 53.5058 - val_loss: 7.0398 - val_mae: 7.0398 - val_mse: 56.0088\n",
            "Epoch 76/300\n",
            "10/10 [==============================] - 0s 3ms/step - loss: 6.7489 - mae: 6.7489 - mse: 51.9813 - val_loss: 6.9375 - val_mae: 6.9375 - val_mse: 54.3355\n",
            "Epoch 77/300\n",
            "10/10 [==============================] - 0s 4ms/step - loss: 6.6553 - mae: 6.6553 - mse: 50.4916 - val_loss: 6.8343 - val_mae: 6.8343 - val_mse: 52.6760\n",
            "Epoch 78/300\n",
            "10/10 [==============================] - 0s 4ms/step - loss: 6.5616 - mae: 6.5616 - mse: 49.0426 - val_loss: 6.7300 - val_mae: 6.7300 - val_mse: 51.0292\n",
            "Epoch 79/300\n",
            "10/10 [==============================] - 0s 4ms/step - loss: 6.4659 - mae: 6.4659 - mse: 47.5895 - val_loss: 6.6269 - val_mae: 6.6269 - val_mse: 49.4316\n",
            "Epoch 80/300\n",
            "10/10 [==============================] - 0s 4ms/step - loss: 6.3708 - mae: 6.3708 - mse: 46.1452 - val_loss: 6.5241 - val_mae: 6.5241 - val_mse: 47.8676\n",
            "Epoch 81/300\n",
            "10/10 [==============================] - 0s 4ms/step - loss: 6.2764 - mae: 6.2764 - mse: 44.7502 - val_loss: 6.4207 - val_mae: 6.4207 - val_mse: 46.3234\n",
            "Epoch 82/300\n",
            "10/10 [==============================] - 0s 4ms/step - loss: 6.1822 - mae: 6.1822 - mse: 43.3960 - val_loss: 6.3164 - val_mae: 6.3164 - val_mse: 44.7947\n",
            "Epoch 83/300\n",
            "10/10 [==============================] - 0s 4ms/step - loss: 6.0864 - mae: 6.0864 - mse: 42.0320 - val_loss: 6.2130 - val_mae: 6.2130 - val_mse: 43.3097\n",
            "Epoch 84/300\n",
            "10/10 [==============================] - 0s 3ms/step - loss: 5.9933 - mae: 5.9933 - mse: 40.7613 - val_loss: 6.1076 - val_mae: 6.1076 - val_mse: 41.8263\n",
            "Epoch 85/300\n",
            "10/10 [==============================] - 0s 3ms/step - loss: 5.8966 - mae: 5.8966 - mse: 39.4325 - val_loss: 6.0039 - val_mae: 6.0039 - val_mse: 40.3958\n",
            "Epoch 86/300\n",
            "10/10 [==============================] - 0s 4ms/step - loss: 5.8022 - mae: 5.8022 - mse: 38.1735 - val_loss: 5.8993 - val_mae: 5.8993 - val_mse: 38.9834\n",
            "Epoch 87/300\n",
            "10/10 [==============================] - 0s 4ms/step - loss: 5.7065 - mae: 5.7065 - mse: 36.9408 - val_loss: 5.7952 - val_mae: 5.7952 - val_mse: 37.6080\n",
            "Epoch 88/300\n",
            "10/10 [==============================] - 0s 4ms/step - loss: 5.6106 - mae: 5.6106 - mse: 35.6983 - val_loss: 5.6917 - val_mae: 5.6917 - val_mse: 36.2702\n",
            "Epoch 89/300\n",
            "10/10 [==============================] - 0s 4ms/step - loss: 5.5158 - mae: 5.5158 - mse: 34.5193 - val_loss: 5.5875 - val_mae: 5.5875 - val_mse: 34.9528\n",
            "Epoch 90/300\n",
            "10/10 [==============================] - 0s 4ms/step - loss: 5.4212 - mae: 5.4212 - mse: 33.3651 - val_loss: 5.4823 - val_mae: 5.4823 - val_mse: 33.6523\n",
            "Epoch 91/300\n",
            "10/10 [==============================] - 0s 4ms/step - loss: 5.3250 - mae: 5.3250 - mse: 32.2224 - val_loss: 5.3778 - val_mae: 5.3778 - val_mse: 32.3915\n",
            "Epoch 92/300\n",
            "10/10 [==============================] - 0s 3ms/step - loss: 5.2293 - mae: 5.2293 - mse: 31.1033 - val_loss: 5.2733 - val_mae: 5.2733 - val_mse: 31.1611\n",
            "Epoch 93/300\n",
            "10/10 [==============================] - 0s 4ms/step - loss: 5.1335 - mae: 5.1335 - mse: 30.0226 - val_loss: 5.1690 - val_mae: 5.1690 - val_mse: 29.9616\n",
            "Epoch 94/300\n",
            "10/10 [==============================] - 0s 5ms/step - loss: 5.0383 - mae: 5.0383 - mse: 28.9723 - val_loss: 5.0637 - val_mae: 5.0637 - val_mse: 28.7824\n",
            "Epoch 95/300\n",
            "10/10 [==============================] - 0s 4ms/step - loss: 4.9424 - mae: 4.9424 - mse: 27.9413 - val_loss: 4.9585 - val_mae: 4.9585 - val_mse: 27.6341\n",
            "Epoch 96/300\n",
            "10/10 [==============================] - 0s 4ms/step - loss: 4.8456 - mae: 4.8456 - mse: 26.9175 - val_loss: 4.8548 - val_mae: 4.8548 - val_mse: 26.5249\n",
            "Epoch 97/300\n",
            "10/10 [==============================] - 0s 4ms/step - loss: 4.7501 - mae: 4.7501 - mse: 25.9378 - val_loss: 4.7525 - val_mae: 4.7525 - val_mse: 25.4443\n",
            "Epoch 98/300\n",
            "10/10 [==============================] - 0s 4ms/step - loss: 4.6550 - mae: 4.6550 - mse: 24.9822 - val_loss: 4.6500 - val_mae: 4.6500 - val_mse: 24.3922\n",
            "Epoch 99/300\n",
            "10/10 [==============================] - 0s 4ms/step - loss: 4.5612 - mae: 4.5612 - mse: 24.0773 - val_loss: 4.5460 - val_mae: 4.5460 - val_mse: 23.3562\n",
            "Epoch 100/300\n",
            "10/10 [==============================] - 0s 3ms/step - loss: 4.4639 - mae: 4.4639 - mse: 23.1488 - val_loss: 4.4444 - val_mae: 4.4444 - val_mse: 22.3727\n",
            "Epoch 101/300\n",
            "10/10 [==============================] - 0s 4ms/step - loss: 4.3695 - mae: 4.3695 - mse: 22.2995 - val_loss: 4.3414 - val_mae: 4.3414 - val_mse: 21.4073\n",
            "Epoch 102/300\n",
            "10/10 [==============================] - 0s 3ms/step - loss: 4.2738 - mae: 4.2738 - mse: 21.4454 - val_loss: 4.2395 - val_mae: 4.2395 - val_mse: 20.4812\n",
            "Epoch 103/300\n",
            "10/10 [==============================] - 0s 4ms/step - loss: 4.1805 - mae: 4.1805 - mse: 20.6365 - val_loss: 4.1367 - val_mae: 4.1367 - val_mse: 19.5775\n",
            "Epoch 104/300\n",
            "10/10 [==============================] - 0s 3ms/step - loss: 4.0860 - mae: 4.0860 - mse: 19.8405 - val_loss: 4.0351 - val_mae: 4.0351 - val_mse: 18.7133\n",
            "Epoch 105/300\n",
            "10/10 [==============================] - 0s 3ms/step - loss: 3.9939 - mae: 3.9939 - mse: 19.0982 - val_loss: 3.9320 - val_mae: 3.9320 - val_mse: 17.8672\n",
            "Epoch 106/300\n",
            "10/10 [==============================] - 0s 4ms/step - loss: 3.8988 - mae: 3.8988 - mse: 18.3419 - val_loss: 3.8316 - val_mae: 3.8316 - val_mse: 17.0726\n",
            "Epoch 107/300\n",
            "10/10 [==============================] - 0s 4ms/step - loss: 3.8079 - mae: 3.8079 - mse: 17.6525 - val_loss: 3.7294 - val_mae: 3.7294 - val_mse: 16.2940\n",
            "Epoch 108/300\n",
            "10/10 [==============================] - 0s 4ms/step - loss: 3.7129 - mae: 3.7129 - mse: 16.9561 - val_loss: 3.6306 - val_mae: 3.6306 - val_mse: 15.5693\n",
            "Epoch 109/300\n",
            "10/10 [==============================] - 0s 4ms/step - loss: 3.6243 - mae: 3.6243 - mse: 16.3202 - val_loss: 3.5307 - val_mae: 3.5307 - val_mse: 14.8648\n",
            "Epoch 110/300\n",
            "10/10 [==============================] - 0s 4ms/step - loss: 3.5380 - mae: 3.5380 - mse: 15.7200 - val_loss: 3.4285 - val_mae: 3.4285 - val_mse: 14.1739\n",
            "Epoch 111/300\n",
            "10/10 [==============================] - 0s 4ms/step - loss: 3.4482 - mae: 3.4482 - mse: 15.1377 - val_loss: 3.3284 - val_mae: 3.3284 - val_mse: 13.5259\n",
            "Epoch 112/300\n",
            "10/10 [==============================] - 0s 3ms/step - loss: 3.3573 - mae: 3.3573 - mse: 14.5557 - val_loss: 3.2319 - val_mae: 3.2319 - val_mse: 12.9289\n",
            "Epoch 113/300\n",
            "10/10 [==============================] - 0s 3ms/step - loss: 3.2737 - mae: 3.2737 - mse: 14.0402 - val_loss: 3.1335 - val_mae: 3.1335 - val_mse: 12.3473\n",
            "Epoch 114/300\n",
            "10/10 [==============================] - 0s 4ms/step - loss: 3.1884 - mae: 3.1884 - mse: 13.5372 - val_loss: 3.0359 - val_mae: 3.0359 - val_mse: 11.7975\n",
            "Epoch 115/300\n",
            "10/10 [==============================] - 0s 5ms/step - loss: 3.1031 - mae: 3.1031 - mse: 13.0487 - val_loss: 2.9406 - val_mae: 2.9406 - val_mse: 11.2749\n",
            "Epoch 116/300\n",
            "10/10 [==============================] - 0s 4ms/step - loss: 3.0182 - mae: 3.0182 - mse: 12.5937 - val_loss: 2.8475 - val_mae: 2.8475 - val_mse: 10.7870\n",
            "Epoch 117/300\n",
            "10/10 [==============================] - 0s 6ms/step - loss: 2.9375 - mae: 2.9375 - mse: 12.1748 - val_loss: 2.7578 - val_mae: 2.7578 - val_mse: 10.3249\n",
            "Epoch 118/300\n",
            "10/10 [==============================] - 0s 5ms/step - loss: 2.8563 - mae: 2.8563 - mse: 11.7594 - val_loss: 2.6729 - val_mae: 2.6729 - val_mse: 9.9089\n",
            "Epoch 119/300\n",
            "10/10 [==============================] - 0s 4ms/step - loss: 2.7825 - mae: 2.7825 - mse: 11.4159 - val_loss: 2.5873 - val_mae: 2.5873 - val_mse: 9.5046\n",
            "Epoch 120/300\n",
            "10/10 [==============================] - 0s 4ms/step - loss: 2.7048 - mae: 2.7048 - mse: 11.0733 - val_loss: 2.5048 - val_mae: 2.5048 - val_mse: 9.1395\n",
            "Epoch 121/300\n",
            "10/10 [==============================] - 0s 5ms/step - loss: 2.6324 - mae: 2.6324 - mse: 10.7695 - val_loss: 2.4213 - val_mae: 2.4213 - val_mse: 8.7942\n",
            "Epoch 122/300\n",
            "10/10 [==============================] - 0s 4ms/step - loss: 2.5599 - mae: 2.5599 - mse: 10.4629 - val_loss: 2.3394 - val_mae: 2.3394 - val_mse: 8.4798\n",
            "Epoch 123/300\n",
            "10/10 [==============================] - 0s 5ms/step - loss: 2.4887 - mae: 2.4887 - mse: 10.1870 - val_loss: 2.2603 - val_mae: 2.2603 - val_mse: 8.1982\n",
            "Epoch 124/300\n",
            "10/10 [==============================] - 0s 4ms/step - loss: 2.4280 - mae: 2.4280 - mse: 9.9660 - val_loss: 2.1845 - val_mae: 2.1845 - val_mse: 7.9430\n",
            "Epoch 125/300\n",
            "10/10 [==============================] - 0s 5ms/step - loss: 2.3671 - mae: 2.3671 - mse: 9.7460 - val_loss: 2.1140 - val_mae: 2.1140 - val_mse: 7.7250\n",
            "Epoch 126/300\n",
            "10/10 [==============================] - 0s 5ms/step - loss: 2.3127 - mae: 2.3127 - mse: 9.5567 - val_loss: 2.0458 - val_mae: 2.0458 - val_mse: 7.5303\n",
            "Epoch 127/300\n",
            "10/10 [==============================] - 0s 5ms/step - loss: 2.2654 - mae: 2.2654 - mse: 9.3984 - val_loss: 1.9844 - val_mae: 1.9844 - val_mse: 7.3626\n",
            "Epoch 128/300\n",
            "10/10 [==============================] - 0s 4ms/step - loss: 2.2238 - mae: 2.2238 - mse: 9.2765 - val_loss: 1.9263 - val_mae: 1.9263 - val_mse: 7.2152\n",
            "Epoch 129/300\n",
            "10/10 [==============================] - 0s 4ms/step - loss: 2.1825 - mae: 2.1825 - mse: 9.1308 - val_loss: 1.8737 - val_mae: 1.8737 - val_mse: 7.0897\n",
            "Epoch 130/300\n",
            "10/10 [==============================] - 0s 5ms/step - loss: 2.1499 - mae: 2.1499 - mse: 9.0261 - val_loss: 1.8272 - val_mae: 1.8272 - val_mse: 6.9844\n",
            "Epoch 131/300\n",
            "10/10 [==============================] - 0s 6ms/step - loss: 2.1203 - mae: 2.1203 - mse: 8.9550 - val_loss: 1.7830 - val_mae: 1.7830 - val_mse: 6.8945\n",
            "Epoch 132/300\n",
            "10/10 [==============================] - 0s 4ms/step - loss: 2.0910 - mae: 2.0910 - mse: 8.8691 - val_loss: 1.7516 - val_mae: 1.7516 - val_mse: 6.8222\n",
            "Epoch 133/300\n",
            "10/10 [==============================] - 0s 4ms/step - loss: 2.0673 - mae: 2.0673 - mse: 8.8173 - val_loss: 1.7230 - val_mae: 1.7230 - val_mse: 6.7565\n",
            "Epoch 134/300\n",
            "10/10 [==============================] - 0s 5ms/step - loss: 2.0422 - mae: 2.0422 - mse: 8.7519 - val_loss: 1.6980 - val_mae: 1.6980 - val_mse: 6.7024\n",
            "Epoch 135/300\n",
            "10/10 [==============================] - 0s 4ms/step - loss: 2.0221 - mae: 2.0221 - mse: 8.7203 - val_loss: 1.6777 - val_mae: 1.6777 - val_mse: 6.6571\n",
            "Epoch 136/300\n",
            "10/10 [==============================] - 0s 7ms/step - loss: 2.0023 - mae: 2.0023 - mse: 8.6791 - val_loss: 1.6583 - val_mae: 1.6583 - val_mse: 6.6207\n",
            "Epoch 137/300\n",
            "10/10 [==============================] - 0s 7ms/step - loss: 1.9844 - mae: 1.9844 - mse: 8.6529 - val_loss: 1.6428 - val_mae: 1.6428 - val_mse: 6.5927\n",
            "Epoch 138/300\n",
            "10/10 [==============================] - 0s 5ms/step - loss: 1.9694 - mae: 1.9694 - mse: 8.6302 - val_loss: 1.6296 - val_mae: 1.6296 - val_mse: 6.5724\n",
            "Epoch 139/300\n",
            "10/10 [==============================] - 0s 4ms/step - loss: 1.9565 - mae: 1.9565 - mse: 8.6149 - val_loss: 1.6199 - val_mae: 1.6199 - val_mse: 6.5586\n",
            "Epoch 140/300\n",
            "10/10 [==============================] - 0s 5ms/step - loss: 1.9475 - mae: 1.9475 - mse: 8.6056 - val_loss: 1.6128 - val_mae: 1.6128 - val_mse: 6.5494\n",
            "Epoch 141/300\n",
            "10/10 [==============================] - 0s 4ms/step - loss: 1.9399 - mae: 1.9399 - mse: 8.6004 - val_loss: 1.6056 - val_mae: 1.6056 - val_mse: 6.5434\n",
            "Epoch 142/300\n",
            "10/10 [==============================] - 0s 5ms/step - loss: 1.9319 - mae: 1.9319 - mse: 8.5927 - val_loss: 1.6018 - val_mae: 1.6018 - val_mse: 6.5408\n",
            "Epoch 143/300\n",
            "10/10 [==============================] - 0s 4ms/step - loss: 1.9261 - mae: 1.9261 - mse: 8.5970 - val_loss: 1.6006 - val_mae: 1.6006 - val_mse: 6.5407\n",
            "Epoch 144/300\n",
            "10/10 [==============================] - 0s 5ms/step - loss: 1.9219 - mae: 1.9219 - mse: 8.5961 - val_loss: 1.6000 - val_mae: 1.6000 - val_mse: 6.5422\n",
            "Epoch 145/300\n",
            "10/10 [==============================] - 0s 5ms/step - loss: 1.9178 - mae: 1.9178 - mse: 8.5981 - val_loss: 1.5995 - val_mae: 1.5995 - val_mse: 6.5446\n",
            "Epoch 146/300\n",
            "10/10 [==============================] - 0s 5ms/step - loss: 1.9149 - mae: 1.9149 - mse: 8.5994 - val_loss: 1.5998 - val_mae: 1.5998 - val_mse: 6.5485\n",
            "Epoch 147/300\n",
            "10/10 [==============================] - 0s 6ms/step - loss: 1.9129 - mae: 1.9129 - mse: 8.6118 - val_loss: 1.6002 - val_mae: 1.6002 - val_mse: 6.5547\n",
            "Epoch 148/300\n",
            "10/10 [==============================] - 0s 5ms/step - loss: 1.9083 - mae: 1.9083 - mse: 8.6126 - val_loss: 1.6004 - val_mae: 1.6004 - val_mse: 6.5596\n",
            "Epoch 149/300\n",
            "10/10 [==============================] - 0s 5ms/step - loss: 1.9063 - mae: 1.9063 - mse: 8.6210 - val_loss: 1.6010 - val_mae: 1.6010 - val_mse: 6.5678\n",
            "Epoch 150/300\n",
            "10/10 [==============================] - 0s 7ms/step - loss: 1.9032 - mae: 1.9032 - mse: 8.6241 - val_loss: 1.6022 - val_mae: 1.6022 - val_mse: 6.5732\n",
            "Epoch 151/300\n",
            "10/10 [==============================] - 0s 5ms/step - loss: 1.9025 - mae: 1.9025 - mse: 8.6331 - val_loss: 1.6036 - val_mae: 1.6036 - val_mse: 6.5801\n",
            "Epoch 152/300\n",
            "10/10 [==============================] - 0s 4ms/step - loss: 1.9007 - mae: 1.9007 - mse: 8.6355 - val_loss: 1.6046 - val_mae: 1.6046 - val_mse: 6.5851\n",
            "Epoch 153/300\n",
            "10/10 [==============================] - 0s 4ms/step - loss: 1.8997 - mae: 1.8997 - mse: 8.6407 - val_loss: 1.6057 - val_mae: 1.6057 - val_mse: 6.5912\n",
            "Epoch 154/300\n",
            "10/10 [==============================] - 0s 4ms/step - loss: 1.8986 - mae: 1.8986 - mse: 8.6472 - val_loss: 1.6072 - val_mae: 1.6072 - val_mse: 6.5978\n",
            "Epoch 155/300\n",
            "10/10 [==============================] - 0s 5ms/step - loss: 1.8974 - mae: 1.8974 - mse: 8.6531 - val_loss: 1.6090 - val_mae: 1.6090 - val_mse: 6.6053\n",
            "Epoch 156/300\n",
            "10/10 [==============================] - 0s 4ms/step - loss: 1.8961 - mae: 1.8961 - mse: 8.6596 - val_loss: 1.6105 - val_mae: 1.6105 - val_mse: 6.6120\n",
            "Epoch 157/300\n",
            "10/10 [==============================] - 0s 4ms/step - loss: 1.8950 - mae: 1.8950 - mse: 8.6682 - val_loss: 1.6124 - val_mae: 1.6124 - val_mse: 6.6206\n",
            "Epoch 158/300\n",
            "10/10 [==============================] - 0s 4ms/step - loss: 1.8939 - mae: 1.8939 - mse: 8.6756 - val_loss: 1.6146 - val_mae: 1.6146 - val_mse: 6.6295\n",
            "Epoch 159/300\n",
            "10/10 [==============================] - 0s 4ms/step - loss: 1.8936 - mae: 1.8936 - mse: 8.6835 - val_loss: 1.6167 - val_mae: 1.6167 - val_mse: 6.6363\n",
            "Epoch 160/300\n",
            "10/10 [==============================] - 0s 4ms/step - loss: 1.8932 - mae: 1.8932 - mse: 8.6866 - val_loss: 1.6175 - val_mae: 1.6175 - val_mse: 6.6385\n",
            "Epoch 161/300\n",
            "10/10 [==============================] - 0s 4ms/step - loss: 1.8931 - mae: 1.8931 - mse: 8.6873 - val_loss: 1.6175 - val_mae: 1.6175 - val_mse: 6.6385\n",
            "Epoch 162/300\n",
            "10/10 [==============================] - 0s 4ms/step - loss: 1.8929 - mae: 1.8929 - mse: 8.6882 - val_loss: 1.6184 - val_mae: 1.6184 - val_mse: 6.6412\n",
            "Epoch 163/300\n",
            "10/10 [==============================] - 0s 4ms/step - loss: 1.8927 - mae: 1.8927 - mse: 8.6923 - val_loss: 1.6197 - val_mae: 1.6197 - val_mse: 6.6457\n",
            "Epoch 164/300\n",
            "10/10 [==============================] - 0s 6ms/step - loss: 1.8926 - mae: 1.8926 - mse: 8.6973 - val_loss: 1.6213 - val_mae: 1.6213 - val_mse: 6.6508\n",
            "Epoch 165/300\n",
            "10/10 [==============================] - 0s 4ms/step - loss: 1.8927 - mae: 1.8927 - mse: 8.7037 - val_loss: 1.6228 - val_mae: 1.6228 - val_mse: 6.6561\n",
            "Epoch 166/300\n",
            "10/10 [==============================] - 0s 4ms/step - loss: 1.8922 - mae: 1.8922 - mse: 8.7052 - val_loss: 1.6233 - val_mae: 1.6233 - val_mse: 6.6580\n",
            "Epoch 167/300\n",
            "10/10 [==============================] - 0s 4ms/step - loss: 1.8921 - mae: 1.8921 - mse: 8.7077 - val_loss: 1.6243 - val_mae: 1.6243 - val_mse: 6.6615\n",
            "Epoch 168/300\n",
            "10/10 [==============================] - 0s 4ms/step - loss: 1.8919 - mae: 1.8919 - mse: 8.7097 - val_loss: 1.6251 - val_mae: 1.6251 - val_mse: 6.6641\n",
            "Epoch 169/300\n",
            "10/10 [==============================] - 0s 4ms/step - loss: 1.8919 - mae: 1.8919 - mse: 8.7137 - val_loss: 1.6265 - val_mae: 1.6265 - val_mse: 6.6693\n",
            "Epoch 170/300\n",
            "10/10 [==============================] - 0s 4ms/step - loss: 1.8916 - mae: 1.8916 - mse: 8.7173 - val_loss: 1.6273 - val_mae: 1.6273 - val_mse: 6.6724\n",
            "Epoch 171/300\n",
            "10/10 [==============================] - 0s 4ms/step - loss: 1.8914 - mae: 1.8914 - mse: 8.7199 - val_loss: 1.6280 - val_mae: 1.6280 - val_mse: 6.6748\n",
            "Epoch 172/300\n",
            "10/10 [==============================] - 0s 4ms/step - loss: 1.8913 - mae: 1.8913 - mse: 8.7208 - val_loss: 1.6283 - val_mae: 1.6283 - val_mse: 6.6756\n",
            "Epoch 173/300\n",
            "10/10 [==============================] - 0s 4ms/step - loss: 1.8914 - mae: 1.8914 - mse: 8.7260 - val_loss: 1.6301 - val_mae: 1.6301 - val_mse: 6.6829\n",
            "Epoch 174/300\n",
            "10/10 [==============================] - 0s 4ms/step - loss: 1.8909 - mae: 1.8909 - mse: 8.7291 - val_loss: 1.6308 - val_mae: 1.6308 - val_mse: 6.6855\n",
            "Epoch 175/300\n",
            "10/10 [==============================] - 0s 4ms/step - loss: 1.8909 - mae: 1.8909 - mse: 8.7342 - val_loss: 1.6323 - val_mae: 1.6323 - val_mse: 6.6917\n",
            "Epoch 176/300\n",
            "10/10 [==============================] - 0s 5ms/step - loss: 1.8906 - mae: 1.8906 - mse: 8.7391 - val_loss: 1.6330 - val_mae: 1.6330 - val_mse: 6.6945\n",
            "Epoch 177/300\n",
            "10/10 [==============================] - 0s 5ms/step - loss: 1.8904 - mae: 1.8904 - mse: 8.7408 - val_loss: 1.6338 - val_mae: 1.6338 - val_mse: 6.6978\n",
            "Epoch 178/300\n",
            "10/10 [==============================] - 0s 5ms/step - loss: 1.8903 - mae: 1.8903 - mse: 8.7418 - val_loss: 1.6337 - val_mae: 1.6337 - val_mse: 6.6967\n",
            "Epoch 179/300\n",
            "10/10 [==============================] - 0s 4ms/step - loss: 1.8903 - mae: 1.8903 - mse: 8.7416 - val_loss: 1.6340 - val_mae: 1.6340 - val_mse: 6.6977\n",
            "Epoch 180/300\n",
            "10/10 [==============================] - 0s 4ms/step - loss: 1.8903 - mae: 1.8903 - mse: 8.7420 - val_loss: 1.6338 - val_mae: 1.6338 - val_mse: 6.6968\n",
            "Epoch 181/300\n",
            "10/10 [==============================] - 0s 4ms/step - loss: 1.8904 - mae: 1.8904 - mse: 8.7386 - val_loss: 1.6329 - val_mae: 1.6329 - val_mse: 6.6923\n",
            "Epoch 182/300\n",
            "10/10 [==============================] - 0s 4ms/step - loss: 1.8903 - mae: 1.8903 - mse: 8.7363 - val_loss: 1.6330 - val_mae: 1.6330 - val_mse: 6.6925\n",
            "Epoch 183/300\n",
            "10/10 [==============================] - 0s 4ms/step - loss: 1.8902 - mae: 1.8902 - mse: 8.7391 - val_loss: 1.6342 - val_mae: 1.6342 - val_mse: 6.6975\n",
            "Epoch 184/300\n",
            "10/10 [==============================] - 0s 4ms/step - loss: 1.8903 - mae: 1.8903 - mse: 8.7407 - val_loss: 1.6334 - val_mae: 1.6334 - val_mse: 6.6939\n",
            "Epoch 185/300\n",
            "10/10 [==============================] - 0s 7ms/step - loss: 1.8902 - mae: 1.8902 - mse: 8.7396 - val_loss: 1.6333 - val_mae: 1.6333 - val_mse: 6.6932\n",
            "Epoch 186/300\n",
            "10/10 [==============================] - 0s 4ms/step - loss: 1.8901 - mae: 1.8901 - mse: 8.7394 - val_loss: 1.6340 - val_mae: 1.6340 - val_mse: 6.6958\n",
            "Epoch 187/300\n",
            "10/10 [==============================] - 0s 4ms/step - loss: 1.8902 - mae: 1.8902 - mse: 8.7383 - val_loss: 1.6333 - val_mae: 1.6333 - val_mse: 6.6923\n",
            "Epoch 188/300\n",
            "10/10 [==============================] - 0s 4ms/step - loss: 1.8901 - mae: 1.8901 - mse: 8.7394 - val_loss: 1.6334 - val_mae: 1.6334 - val_mse: 6.6926\n",
            "Epoch 189/300\n",
            "10/10 [==============================] - 0s 4ms/step - loss: 1.8900 - mae: 1.8900 - mse: 8.7368 - val_loss: 1.6336 - val_mae: 1.6336 - val_mse: 6.6930\n",
            "Epoch 190/300\n",
            "10/10 [==============================] - 0s 5ms/step - loss: 1.8899 - mae: 1.8899 - mse: 8.7377 - val_loss: 1.6334 - val_mae: 1.6334 - val_mse: 6.6922\n",
            "Epoch 191/300\n",
            "10/10 [==============================] - 0s 4ms/step - loss: 1.8899 - mae: 1.8899 - mse: 8.7373 - val_loss: 1.6334 - val_mae: 1.6334 - val_mse: 6.6918\n",
            "Epoch 192/300\n",
            "10/10 [==============================] - 0s 4ms/step - loss: 1.8899 - mae: 1.8899 - mse: 8.7373 - val_loss: 1.6339 - val_mae: 1.6339 - val_mse: 6.6934\n",
            "Epoch 193/300\n",
            "10/10 [==============================] - 0s 4ms/step - loss: 1.8898 - mae: 1.8898 - mse: 8.7369 - val_loss: 1.6330 - val_mae: 1.6330 - val_mse: 6.6892\n",
            "Epoch 194/300\n",
            "10/10 [==============================] - 0s 5ms/step - loss: 1.8898 - mae: 1.8898 - mse: 8.7337 - val_loss: 1.6329 - val_mae: 1.6329 - val_mse: 6.6886\n",
            "Epoch 195/300\n",
            "10/10 [==============================] - 0s 4ms/step - loss: 1.8899 - mae: 1.8899 - mse: 8.7356 - val_loss: 1.6339 - val_mae: 1.6339 - val_mse: 6.6924\n",
            "Epoch 196/300\n",
            "10/10 [==============================] - 0s 5ms/step - loss: 1.8897 - mae: 1.8897 - mse: 8.7356 - val_loss: 1.6331 - val_mae: 1.6331 - val_mse: 6.6885\n",
            "Epoch 197/300\n",
            "10/10 [==============================] - 0s 7ms/step - loss: 1.8897 - mae: 1.8897 - mse: 8.7340 - val_loss: 1.6333 - val_mae: 1.6333 - val_mse: 6.6893\n",
            "Epoch 198/300\n",
            "10/10 [==============================] - 0s 5ms/step - loss: 1.8897 - mae: 1.8897 - mse: 8.7328 - val_loss: 1.6330 - val_mae: 1.6330 - val_mse: 6.6874\n",
            "Epoch 199/300\n",
            "10/10 [==============================] - 0s 5ms/step - loss: 1.8896 - mae: 1.8896 - mse: 8.7346 - val_loss: 1.6337 - val_mae: 1.6337 - val_mse: 6.6903\n",
            "Epoch 200/300\n",
            "10/10 [==============================] - 0s 5ms/step - loss: 1.8896 - mae: 1.8896 - mse: 8.7349 - val_loss: 1.6332 - val_mae: 1.6332 - val_mse: 6.6878\n",
            "Epoch 201/300\n",
            "10/10 [==============================] - 0s 4ms/step - loss: 1.8895 - mae: 1.8895 - mse: 8.7329 - val_loss: 1.6332 - val_mae: 1.6332 - val_mse: 6.6875\n",
            "Epoch 202/300\n",
            "10/10 [==============================] - 0s 5ms/step - loss: 1.8895 - mae: 1.8895 - mse: 8.7336 - val_loss: 1.6331 - val_mae: 1.6331 - val_mse: 6.6868\n",
            "Epoch 203/300\n",
            "10/10 [==============================] - 0s 5ms/step - loss: 1.8895 - mae: 1.8895 - mse: 8.7307 - val_loss: 1.6327 - val_mae: 1.6327 - val_mse: 6.6848\n",
            "Epoch 204/300\n",
            "10/10 [==============================] - 0s 5ms/step - loss: 1.8894 - mae: 1.8894 - mse: 8.7321 - val_loss: 1.6333 - val_mae: 1.6333 - val_mse: 6.6871\n",
            "Epoch 205/300\n",
            "10/10 [==============================] - 0s 5ms/step - loss: 1.8897 - mae: 1.8897 - mse: 8.7302 - val_loss: 1.6322 - val_mae: 1.6322 - val_mse: 6.6817\n",
            "Epoch 206/300\n",
            "10/10 [==============================] - 0s 4ms/step - loss: 1.8893 - mae: 1.8893 - mse: 8.7287 - val_loss: 1.6330 - val_mae: 1.6330 - val_mse: 6.6848\n",
            "Epoch 207/300\n",
            "10/10 [==============================] - 0s 6ms/step - loss: 1.8893 - mae: 1.8893 - mse: 8.7328 - val_loss: 1.6338 - val_mae: 1.6338 - val_mse: 6.6877\n",
            "Epoch 208/300\n",
            "10/10 [==============================] - 0s 4ms/step - loss: 1.8893 - mae: 1.8893 - mse: 8.7324 - val_loss: 1.6332 - val_mae: 1.6332 - val_mse: 6.6851\n",
            "Epoch 209/300\n",
            "10/10 [==============================] - 0s 5ms/step - loss: 1.8892 - mae: 1.8892 - mse: 8.7281 - val_loss: 1.6322 - val_mae: 1.6322 - val_mse: 6.6806\n",
            "Epoch 210/300\n",
            "10/10 [==============================] - 0s 4ms/step - loss: 1.8894 - mae: 1.8894 - mse: 8.7252 - val_loss: 1.6318 - val_mae: 1.6318 - val_mse: 6.6785\n",
            "Epoch 211/300\n",
            "10/10 [==============================] - 0s 5ms/step - loss: 1.8893 - mae: 1.8893 - mse: 8.7286 - val_loss: 1.6334 - val_mae: 1.6334 - val_mse: 6.6848\n",
            "Epoch 212/300\n",
            "10/10 [==============================] - 0s 5ms/step - loss: 1.8891 - mae: 1.8891 - mse: 8.7308 - val_loss: 1.6328 - val_mae: 1.6328 - val_mse: 6.6822\n",
            "Epoch 213/300\n",
            "10/10 [==============================] - 0s 5ms/step - loss: 1.8891 - mae: 1.8891 - mse: 8.7269 - val_loss: 1.6325 - val_mae: 1.6325 - val_mse: 6.6805\n",
            "Epoch 214/300\n",
            "10/10 [==============================] - 0s 4ms/step - loss: 1.8891 - mae: 1.8891 - mse: 8.7280 - val_loss: 1.6328 - val_mae: 1.6328 - val_mse: 6.6812\n",
            "Epoch 215/300\n",
            "10/10 [==============================] - 0s 8ms/step - loss: 1.8890 - mae: 1.8890 - mse: 8.7271 - val_loss: 1.6329 - val_mae: 1.6329 - val_mse: 6.6817\n",
            "Epoch 216/300\n",
            "10/10 [==============================] - 0s 5ms/step - loss: 1.8889 - mae: 1.8889 - mse: 8.7270 - val_loss: 1.6330 - val_mae: 1.6330 - val_mse: 6.6814\n",
            "Epoch 217/300\n",
            "10/10 [==============================] - 0s 4ms/step - loss: 1.8890 - mae: 1.8890 - mse: 8.7264 - val_loss: 1.6324 - val_mae: 1.6324 - val_mse: 6.6784\n",
            "Epoch 218/300\n",
            "10/10 [==============================] - 0s 4ms/step - loss: 1.8892 - mae: 1.8892 - mse: 8.7295 - val_loss: 1.6332 - val_mae: 1.6332 - val_mse: 6.6816\n",
            "Epoch 219/300\n",
            "10/10 [==============================] - 0s 5ms/step - loss: 1.8888 - mae: 1.8888 - mse: 8.7271 - val_loss: 1.6326 - val_mae: 1.6326 - val_mse: 6.6785\n",
            "Epoch 220/300\n",
            "10/10 [==============================] - 0s 5ms/step - loss: 1.8889 - mae: 1.8889 - mse: 8.7265 - val_loss: 1.6323 - val_mae: 1.6323 - val_mse: 6.6771\n",
            "Epoch 221/300\n",
            "10/10 [==============================] - 0s 5ms/step - loss: 1.8888 - mae: 1.8888 - mse: 8.7222 - val_loss: 1.6320 - val_mae: 1.6320 - val_mse: 6.6754\n",
            "Epoch 222/300\n",
            "10/10 [==============================] - 0s 5ms/step - loss: 1.8890 - mae: 1.8890 - mse: 8.7255 - val_loss: 1.6334 - val_mae: 1.6334 - val_mse: 6.6808\n",
            "Epoch 223/300\n",
            "10/10 [==============================] - 0s 4ms/step - loss: 1.8886 - mae: 1.8886 - mse: 8.7247 - val_loss: 1.6325 - val_mae: 1.6325 - val_mse: 6.6767\n",
            "Epoch 224/300\n",
            "10/10 [==============================] - 0s 5ms/step - loss: 1.8886 - mae: 1.8886 - mse: 8.7236 - val_loss: 1.6326 - val_mae: 1.6326 - val_mse: 6.6770\n",
            "Epoch 225/300\n",
            "10/10 [==============================] - 0s 5ms/step - loss: 1.8887 - mae: 1.8887 - mse: 8.7219 - val_loss: 1.6320 - val_mae: 1.6320 - val_mse: 6.6740\n",
            "Epoch 226/300\n",
            "10/10 [==============================] - 0s 5ms/step - loss: 1.8886 - mae: 1.8886 - mse: 8.7233 - val_loss: 1.6328 - val_mae: 1.6328 - val_mse: 6.6768\n",
            "Epoch 227/300\n",
            "10/10 [==============================] - 0s 5ms/step - loss: 1.8885 - mae: 1.8885 - mse: 8.7214 - val_loss: 1.6320 - val_mae: 1.6320 - val_mse: 6.6730\n",
            "Epoch 228/300\n",
            "10/10 [==============================] - 0s 5ms/step - loss: 1.8885 - mae: 1.8885 - mse: 8.7210 - val_loss: 1.6322 - val_mae: 1.6322 - val_mse: 6.6735\n",
            "Epoch 229/300\n",
            "10/10 [==============================] - 0s 5ms/step - loss: 1.8884 - mae: 1.8884 - mse: 8.7217 - val_loss: 1.6332 - val_mae: 1.6332 - val_mse: 6.6775\n",
            "Epoch 230/300\n",
            "10/10 [==============================] - 0s 5ms/step - loss: 1.8884 - mae: 1.8884 - mse: 8.7230 - val_loss: 1.6320 - val_mae: 1.6320 - val_mse: 6.6721\n",
            "Epoch 231/300\n",
            "10/10 [==============================] - 0s 4ms/step - loss: 1.8884 - mae: 1.8884 - mse: 8.7215 - val_loss: 1.6324 - val_mae: 1.6324 - val_mse: 6.6733\n",
            "Epoch 232/300\n",
            "10/10 [==============================] - 0s 4ms/step - loss: 1.8882 - mae: 1.8882 - mse: 8.7195 - val_loss: 1.6321 - val_mae: 1.6321 - val_mse: 6.6716\n",
            "Epoch 233/300\n",
            "10/10 [==============================] - 0s 9ms/step - loss: 1.8881 - mae: 1.8881 - mse: 8.7193 - val_loss: 1.6327 - val_mae: 1.6327 - val_mse: 6.6738\n",
            "Epoch 234/300\n",
            "10/10 [==============================] - 0s 5ms/step - loss: 1.8883 - mae: 1.8883 - mse: 8.7223 - val_loss: 1.6330 - val_mae: 1.6330 - val_mse: 6.6746\n",
            "Epoch 235/300\n",
            "10/10 [==============================] - 0s 4ms/step - loss: 1.8881 - mae: 1.8881 - mse: 8.7202 - val_loss: 1.6320 - val_mae: 1.6320 - val_mse: 6.6701\n",
            "Epoch 236/300\n",
            "10/10 [==============================] - 0s 4ms/step - loss: 1.8882 - mae: 1.8882 - mse: 8.7197 - val_loss: 1.6324 - val_mae: 1.6324 - val_mse: 6.6715\n",
            "Epoch 237/300\n",
            "10/10 [==============================] - 0s 4ms/step - loss: 1.8879 - mae: 1.8879 - mse: 8.7179 - val_loss: 1.6319 - val_mae: 1.6319 - val_mse: 6.6689\n",
            "Epoch 238/300\n",
            "10/10 [==============================] - 0s 4ms/step - loss: 1.8880 - mae: 1.8880 - mse: 8.7168 - val_loss: 1.6321 - val_mae: 1.6321 - val_mse: 6.6694\n",
            "Epoch 239/300\n",
            "10/10 [==============================] - 0s 4ms/step - loss: 1.8879 - mae: 1.8879 - mse: 8.7178 - val_loss: 1.6329 - val_mae: 1.6329 - val_mse: 6.6724\n",
            "Epoch 240/300\n",
            "10/10 [==============================] - 0s 4ms/step - loss: 1.8880 - mae: 1.8880 - mse: 8.7186 - val_loss: 1.6321 - val_mae: 1.6321 - val_mse: 6.6688\n",
            "Epoch 241/300\n",
            "10/10 [==============================] - 0s 4ms/step - loss: 1.8879 - mae: 1.8879 - mse: 8.7182 - val_loss: 1.6324 - val_mae: 1.6324 - val_mse: 6.6693\n",
            "Epoch 242/300\n",
            "10/10 [==============================] - 0s 4ms/step - loss: 1.8880 - mae: 1.8880 - mse: 8.7144 - val_loss: 1.6309 - val_mae: 1.6309 - val_mse: 6.6625\n",
            "Epoch 243/300\n",
            "10/10 [==============================] - 0s 5ms/step - loss: 1.8878 - mae: 1.8878 - mse: 8.7121 - val_loss: 1.6318 - val_mae: 1.6318 - val_mse: 6.6660\n",
            "Epoch 244/300\n",
            "10/10 [==============================] - 0s 4ms/step - loss: 1.8878 - mae: 1.8878 - mse: 8.7172 - val_loss: 1.6329 - val_mae: 1.6329 - val_mse: 6.6703\n",
            "Epoch 245/300\n",
            "10/10 [==============================] - 0s 4ms/step - loss: 1.8879 - mae: 1.8879 - mse: 8.7166 - val_loss: 1.6314 - val_mae: 1.6314 - val_mse: 6.6635\n",
            "Epoch 246/300\n",
            "10/10 [==============================] - 0s 5ms/step - loss: 1.8877 - mae: 1.8877 - mse: 8.7120 - val_loss: 1.6317 - val_mae: 1.6317 - val_mse: 6.6644\n",
            "Epoch 247/300\n",
            "10/10 [==============================] - 0s 4ms/step - loss: 1.8876 - mae: 1.8876 - mse: 8.7129 - val_loss: 1.6318 - val_mae: 1.6318 - val_mse: 6.6646\n",
            "Epoch 248/300\n",
            "10/10 [==============================] - 0s 4ms/step - loss: 1.8875 - mae: 1.8875 - mse: 8.7142 - val_loss: 1.6321 - val_mae: 1.6321 - val_mse: 6.6654\n",
            "Epoch 249/300\n",
            "10/10 [==============================] - 0s 5ms/step - loss: 1.8874 - mae: 1.8874 - mse: 8.7124 - val_loss: 1.6320 - val_mae: 1.6320 - val_mse: 6.6645\n",
            "Epoch 250/300\n",
            "10/10 [==============================] - 0s 4ms/step - loss: 1.8875 - mae: 1.8875 - mse: 8.7128 - val_loss: 1.6321 - val_mae: 1.6321 - val_mse: 6.6648\n",
            "Epoch 251/300\n",
            "10/10 [==============================] - 0s 4ms/step - loss: 1.8873 - mae: 1.8873 - mse: 8.7106 - val_loss: 1.6313 - val_mae: 1.6313 - val_mse: 6.6607\n",
            "Epoch 252/300\n",
            "10/10 [==============================] - 0s 6ms/step - loss: 1.8874 - mae: 1.8874 - mse: 8.7086 - val_loss: 1.6311 - val_mae: 1.6311 - val_mse: 6.6597\n",
            "Epoch 253/300\n",
            "10/10 [==============================] - 0s 6ms/step - loss: 1.8874 - mae: 1.8874 - mse: 8.7119 - val_loss: 1.6328 - val_mae: 1.6328 - val_mse: 6.6660\n",
            "Epoch 254/300\n",
            "10/10 [==============================] - 0s 5ms/step - loss: 1.8873 - mae: 1.8873 - mse: 8.7112 - val_loss: 1.6314 - val_mae: 1.6314 - val_mse: 6.6598\n",
            "Epoch 255/300\n",
            "10/10 [==============================] - 0s 5ms/step - loss: 1.8874 - mae: 1.8874 - mse: 8.7112 - val_loss: 1.6321 - val_mae: 1.6321 - val_mse: 6.6625\n",
            "Epoch 256/300\n",
            "10/10 [==============================] - 0s 5ms/step - loss: 1.8874 - mae: 1.8874 - mse: 8.7072 - val_loss: 1.6299 - val_mae: 1.6299 - val_mse: 6.6525\n",
            "Epoch 257/300\n",
            "10/10 [==============================] - 0s 5ms/step - loss: 1.8872 - mae: 1.8872 - mse: 8.7025 - val_loss: 1.6305 - val_mae: 1.6305 - val_mse: 6.6546\n",
            "Epoch 258/300\n",
            "10/10 [==============================] - 0s 5ms/step - loss: 1.8871 - mae: 1.8871 - mse: 8.7070 - val_loss: 1.6319 - val_mae: 1.6319 - val_mse: 6.6602\n",
            "Epoch 259/300\n",
            "10/10 [==============================] - 0s 5ms/step - loss: 1.8870 - mae: 1.8870 - mse: 8.7086 - val_loss: 1.6315 - val_mae: 1.6315 - val_mse: 6.6581\n",
            "Epoch 260/300\n",
            "10/10 [==============================] - 0s 5ms/step - loss: 1.8869 - mae: 1.8869 - mse: 8.7062 - val_loss: 1.6311 - val_mae: 1.6311 - val_mse: 6.6562\n",
            "Epoch 261/300\n",
            "10/10 [==============================] - 0s 4ms/step - loss: 1.8871 - mae: 1.8871 - mse: 8.7033 - val_loss: 1.6307 - val_mae: 1.6307 - val_mse: 6.6539\n",
            "Epoch 262/300\n",
            "10/10 [==============================] - 0s 5ms/step - loss: 1.8870 - mae: 1.8870 - mse: 8.7073 - val_loss: 1.6329 - val_mae: 1.6329 - val_mse: 6.6624\n",
            "Epoch 263/300\n",
            "10/10 [==============================] - 0s 5ms/step - loss: 1.8869 - mae: 1.8869 - mse: 8.7099 - val_loss: 1.6321 - val_mae: 1.6321 - val_mse: 6.6590\n",
            "Epoch 264/300\n",
            "10/10 [==============================] - 0s 6ms/step - loss: 1.8869 - mae: 1.8869 - mse: 8.7038 - val_loss: 1.6307 - val_mae: 1.6307 - val_mse: 6.6524\n",
            "Epoch 265/300\n",
            "10/10 [==============================] - 0s 7ms/step - loss: 1.8868 - mae: 1.8868 - mse: 8.7017 - val_loss: 1.6307 - val_mae: 1.6307 - val_mse: 6.6524\n",
            "Epoch 266/300\n",
            "10/10 [==============================] - 0s 5ms/step - loss: 1.8868 - mae: 1.8868 - mse: 8.7051 - val_loss: 1.6320 - val_mae: 1.6320 - val_mse: 6.6571\n",
            "Epoch 267/300\n",
            "10/10 [==============================] - 0s 5ms/step - loss: 1.8867 - mae: 1.8867 - mse: 8.7041 - val_loss: 1.6308 - val_mae: 1.6308 - val_mse: 6.6517\n",
            "Epoch 268/300\n",
            "10/10 [==============================] - 0s 6ms/step - loss: 1.8870 - mae: 1.8870 - mse: 8.7062 - val_loss: 1.6325 - val_mae: 1.6325 - val_mse: 6.6584\n",
            "Epoch 269/300\n",
            "10/10 [==============================] - 0s 4ms/step - loss: 1.8865 - mae: 1.8865 - mse: 8.7059 - val_loss: 1.6316 - val_mae: 1.6316 - val_mse: 6.6541\n",
            "Epoch 270/300\n",
            "10/10 [==============================] - 0s 5ms/step - loss: 1.8864 - mae: 1.8864 - mse: 8.7004 - val_loss: 1.6301 - val_mae: 1.6301 - val_mse: 6.6476\n",
            "Epoch 271/300\n",
            "10/10 [==============================] - 0s 6ms/step - loss: 1.8865 - mae: 1.8865 - mse: 8.7004 - val_loss: 1.6309 - val_mae: 1.6309 - val_mse: 6.6506\n",
            "Epoch 272/300\n",
            "10/10 [==============================] - 0s 7ms/step - loss: 1.8863 - mae: 1.8863 - mse: 8.7010 - val_loss: 1.6312 - val_mae: 1.6312 - val_mse: 6.6513\n",
            "Epoch 273/300\n",
            "10/10 [==============================] - 0s 5ms/step - loss: 1.8865 - mae: 1.8865 - mse: 8.6988 - val_loss: 1.6308 - val_mae: 1.6308 - val_mse: 6.6490\n",
            "Epoch 274/300\n",
            "10/10 [==============================] - 0s 5ms/step - loss: 1.8863 - mae: 1.8863 - mse: 8.7028 - val_loss: 1.6326 - val_mae: 1.6326 - val_mse: 6.6558\n",
            "Epoch 275/300\n",
            "10/10 [==============================] - 0s 5ms/step - loss: 1.8863 - mae: 1.8863 - mse: 8.7045 - val_loss: 1.6318 - val_mae: 1.6318 - val_mse: 6.6524\n",
            "Epoch 276/300\n",
            "10/10 [==============================] - 0s 5ms/step - loss: 1.8860 - mae: 1.8860 - mse: 8.6993 - val_loss: 1.6307 - val_mae: 1.6307 - val_mse: 6.6475\n",
            "Epoch 277/300\n",
            "10/10 [==============================] - 0s 5ms/step - loss: 1.8861 - mae: 1.8861 - mse: 8.6962 - val_loss: 1.6305 - val_mae: 1.6305 - val_mse: 6.6460\n",
            "Epoch 278/300\n",
            "10/10 [==============================] - 0s 5ms/step - loss: 1.8863 - mae: 1.8863 - mse: 8.7013 - val_loss: 1.6323 - val_mae: 1.6323 - val_mse: 6.6530\n",
            "Epoch 279/300\n",
            "10/10 [==============================] - 0s 5ms/step - loss: 1.8861 - mae: 1.8861 - mse: 8.6986 - val_loss: 1.6301 - val_mae: 1.6301 - val_mse: 6.6435\n",
            "Epoch 280/300\n",
            "10/10 [==============================] - 0s 5ms/step - loss: 1.8860 - mae: 1.8860 - mse: 8.6945 - val_loss: 1.6308 - val_mae: 1.6308 - val_mse: 6.6459\n",
            "Epoch 281/300\n",
            "10/10 [==============================] - 0s 5ms/step - loss: 1.8859 - mae: 1.8859 - mse: 8.6950 - val_loss: 1.6308 - val_mae: 1.6308 - val_mse: 6.6457\n",
            "Epoch 282/300\n",
            "10/10 [==============================] - 0s 4ms/step - loss: 1.8859 - mae: 1.8859 - mse: 8.6984 - val_loss: 1.6314 - val_mae: 1.6314 - val_mse: 6.6472\n",
            "Epoch 283/300\n",
            "10/10 [==============================] - 0s 5ms/step - loss: 1.8859 - mae: 1.8859 - mse: 8.6945 - val_loss: 1.6298 - val_mae: 1.6298 - val_mse: 6.6401\n",
            "Epoch 284/300\n",
            "10/10 [==============================] - 0s 6ms/step - loss: 1.8857 - mae: 1.8857 - mse: 8.6912 - val_loss: 1.6300 - val_mae: 1.6300 - val_mse: 6.6407\n",
            "Epoch 285/300\n",
            "10/10 [==============================] - 0s 5ms/step - loss: 1.8858 - mae: 1.8858 - mse: 8.6969 - val_loss: 1.6321 - val_mae: 1.6321 - val_mse: 6.6487\n",
            "Epoch 286/300\n",
            "10/10 [==============================] - 0s 7ms/step - loss: 1.8857 - mae: 1.8857 - mse: 8.6981 - val_loss: 1.6311 - val_mae: 1.6311 - val_mse: 6.6443\n",
            "Epoch 287/300\n",
            "10/10 [==============================] - 0s 6ms/step - loss: 1.8854 - mae: 1.8854 - mse: 8.6939 - val_loss: 1.6301 - val_mae: 1.6301 - val_mse: 6.6397\n",
            "Epoch 288/300\n",
            "10/10 [==============================] - 0s 7ms/step - loss: 1.8865 - mae: 1.8865 - mse: 8.6868 - val_loss: 1.6272 - val_mae: 1.6272 - val_mse: 6.6266\n",
            "Epoch 289/300\n",
            "10/10 [==============================] - 0s 5ms/step - loss: 1.8856 - mae: 1.8856 - mse: 8.6803 - val_loss: 1.6284 - val_mae: 1.6284 - val_mse: 6.6313\n",
            "Epoch 290/300\n",
            "10/10 [==============================] - 0s 4ms/step - loss: 1.8858 - mae: 1.8858 - mse: 8.6922 - val_loss: 1.6313 - val_mae: 1.6313 - val_mse: 6.6431\n",
            "Epoch 291/300\n",
            "10/10 [==============================] - 0s 5ms/step - loss: 1.8854 - mae: 1.8854 - mse: 8.6943 - val_loss: 1.6306 - val_mae: 1.6306 - val_mse: 6.6397\n",
            "Epoch 292/300\n",
            "10/10 [==============================] - 0s 5ms/step - loss: 1.8853 - mae: 1.8853 - mse: 8.6914 - val_loss: 1.6302 - val_mae: 1.6302 - val_mse: 6.6378\n",
            "Epoch 293/300\n",
            "10/10 [==============================] - 0s 6ms/step - loss: 1.8851 - mae: 1.8851 - mse: 8.6863 - val_loss: 1.6295 - val_mae: 1.6295 - val_mse: 6.6340\n",
            "Epoch 294/300\n",
            "10/10 [==============================] - 0s 5ms/step - loss: 1.8852 - mae: 1.8852 - mse: 8.6872 - val_loss: 1.6303 - val_mae: 1.6303 - val_mse: 6.6371\n",
            "Epoch 295/300\n",
            "10/10 [==============================] - 0s 5ms/step - loss: 1.8850 - mae: 1.8850 - mse: 8.6890 - val_loss: 1.6307 - val_mae: 1.6307 - val_mse: 6.6380\n",
            "Epoch 296/300\n",
            "10/10 [==============================] - 0s 5ms/step - loss: 1.8851 - mae: 1.8851 - mse: 8.6881 - val_loss: 1.6298 - val_mae: 1.6298 - val_mse: 6.6340\n",
            "Epoch 297/300\n",
            "10/10 [==============================] - 0s 5ms/step - loss: 1.8853 - mae: 1.8853 - mse: 8.6858 - val_loss: 1.6294 - val_mae: 1.6294 - val_mse: 6.6318\n",
            "Epoch 298/300\n",
            "10/10 [==============================] - 0s 4ms/step - loss: 1.8853 - mae: 1.8853 - mse: 8.6909 - val_loss: 1.6323 - val_mae: 1.6323 - val_mse: 6.6429\n",
            "Epoch 299/300\n",
            "10/10 [==============================] - 0s 5ms/step - loss: 1.8850 - mae: 1.8850 - mse: 8.6903 - val_loss: 1.6302 - val_mae: 1.6302 - val_mse: 6.6344\n",
            "Epoch 300/300\n",
            "10/10 [==============================] - 0s 6ms/step - loss: 1.8848 - mae: 1.8848 - mse: 8.6836 - val_loss: 1.6294 - val_mae: 1.6294 - val_mse: 6.6301\n"
          ],
          "name": "stdout"
        }
      ]
    },
    {
      "cell_type": "code",
      "metadata": {
        "colab": {
          "base_uri": "https://localhost:8080/"
        },
        "id": "p6Tw7NoHgm5I",
        "outputId": "52a3802a-04e4-413f-f004-11a0a9e5105d"
      },
      "source": [
        "model.summary()"
      ],
      "execution_count": 21,
      "outputs": [
        {
          "output_type": "stream",
          "text": [
            "Model: \"sequential\"\n",
            "_________________________________________________________________\n",
            "Layer (type)                 Output Shape              Param #   \n",
            "=================================================================\n",
            "dense (Dense)                (None, 1)                 2         \n",
            "=================================================================\n",
            "Total params: 2\n",
            "Trainable params: 2\n",
            "Non-trainable params: 0\n",
            "_________________________________________________________________\n"
          ],
          "name": "stdout"
        }
      ]
    },
    {
      "cell_type": "code",
      "metadata": {
        "colab": {
          "base_uri": "https://localhost:8080/",
          "height": 1000
        },
        "id": "9X8tDDgjgttM",
        "outputId": "b5c2cf68-537e-4349-d1d1-4091e220849c"
      },
      "source": [
        "# tempString = 'mse'\n",
        "def curvePlots(tempString):\n",
        "  plt.plot(history.history[tempString])\n",
        "  plt.plot(history.history[f'val_{tempString}'])\n",
        "  plt.xlabel('NumEpochs')\n",
        "  plt.ylabel(tempString)\n",
        "  plt.legend([tempString, f'val_{tempString}'])\n",
        "  plt.show()\n",
        "\n",
        "\n",
        "curvePlots('mse')\n",
        "curvePlots('mae')\n",
        "curvePlots('loss')"
      ],
      "execution_count": 22,
      "outputs": [
        {
          "output_type": "display_data",
          "data": {
            "image/png": "[encoded data removed]",
            "text/plain": [
              "<Figure size 576x396 with 1 Axes>"
            ]
          },
          "metadata": {
            "tags": []
          }
        },
        {
          "output_type": "display_data",
          "data": {
            "image/png": "[encoded data removed]",
            "text/plain": [
              "<Figure size 576x396 with 1 Axes>"
            ]
          },
          "metadata": {
            "tags": []
          }
        },
        {
          "output_type": "display_data",
          "data": {
            "image/png": "[encoded data removed]",
            "text/plain": [
              "<Figure size 576x396 with 1 Axes>"
            ]
          },
          "metadata": {
            "tags": []
          }
        }
      ]
    },
    {
      "cell_type": "code",
      "metadata": {
        "colab": {
          "base_uri": "https://localhost:8080/"
        },
        "id": "s-pzxL9Egzzr",
        "outputId": "ffa2214d-cec2-4dde-b151-9ee7c59cd364"
      },
      "source": [
        "model.predict([1])"
      ],
      "execution_count": 23,
      "outputs": [
        {
          "output_type": "execute_result",
          "data": {
            "text/plain": [
              "array([[2.0153732]], dtype=float32)"
            ]
          },
          "metadata": {
            "tags": []
          },
          "execution_count": 23
        }
      ]
    },
    {
      "cell_type": "code",
      "metadata": {
        "colab": {
          "base_uri": "https://localhost:8080/"
        },
        "id": "YhloAd1ag6j0",
        "outputId": "bcaf7040-ab73-4bbf-dfbf-f1becc06a374"
      },
      "source": [
        "print('Prediction for input value 1:',model.predict([1]))\n",
        "tempListforPreds = [1,2,3,4,5]\n",
        "print(f'''\n",
        "input List = {tempListforPreds}\n",
        "List of Predictions:\n",
        "{model.predict(tempListforPreds)}\n",
        "List of Predictions (flattened out):\n",
        "{model.predict(tempListforPreds).flatten()}\n",
        "''')"
      ],
      "execution_count": 24,
      "outputs": [
        {
          "output_type": "stream",
          "text": [
            "Prediction for input value 1: [[2.0153732]]\n",
            "\n",
            "input List = [1, 2, 3, 4, 5]\n",
            "List of Predictions:\n",
            "[[2.0153732]\n",
            " [2.922746 ]\n",
            " [3.8301187]\n",
            " [4.737491 ]\n",
            " [5.6448636]]\n",
            "List of Predictions (flattened out):\n",
            "[2.0153732 2.922746  3.8301187 4.737491  5.6448636]\n",
            "\n"
          ],
          "name": "stdout"
        }
      ]
    },
    {
      "cell_type": "code",
      "metadata": {
        "colab": {
          "base_uri": "https://localhost:8080/"
        },
        "id": "2QbFa4hFhMfd",
        "outputId": "785c2c2b-6657-4a0c-a150-409bbd90df77"
      },
      "source": [
        "testPreds = model.predict(testFeatures).flatten() \n",
        "print(len(testPreds))\n",
        "print(testPreds)"
      ],
      "execution_count": 25,
      "outputs": [
        {
          "output_type": "stream",
          "text": [
            "79\n",
            "[13.811217   6.5522366 11.089099  16.533335  16.533335  11.996472\n",
            " 13.811217  18.34808   18.34808    8.3669815 13.811217  12.903845\n",
            "  8.3669815  7.459609   9.274354  12.903845  11.089099  15.625962\n",
            "  7.459609  10.181726  14.71859   12.903845  13.811217  15.625962\n",
            "  7.459609   7.459609   8.3669815 10.181726  11.996472  10.181726\n",
            " 11.996472  12.903845  10.181726   6.5522366  9.274354  11.996472\n",
            "  7.459609   8.3669815 13.811217   9.274354   9.274354   7.459609\n",
            " 11.996472   6.5522366 12.903845   7.459609   7.459609  11.089099\n",
            " 12.903845  16.533335  11.996472  14.71859    9.274354  11.996472\n",
            " 14.71859   11.996472  14.71859   11.996472  14.71859   11.089099\n",
            " 11.996472   8.3669815 15.625962   7.459609  15.625962  11.089099\n",
            " 15.625962  12.903845   8.3669815  8.3669815 11.996472  17.440708\n",
            " 12.903845  15.625962  10.181726   7.459609  10.181726   7.459609\n",
            " 11.089099 ]\n"
          ],
          "name": "stdout"
        }
      ]
    },
    {
      "cell_type": "code",
      "metadata": {
        "colab": {
          "base_uri": "https://localhost:8080/",
          "height": 361
        },
        "id": "aMtatjn4hWI1",
        "outputId": "2621f0bb-a5ad-41fb-b702-500635473acb"
      },
      "source": [
        "plt.scatter(testLabels, testPreds)\n",
        "plt.ylabel('Predictions')\n",
        "plt.xlabel('True Value or Labels')\n",
        "plt.axis('equal')\n",
        "plt.axis('square')\n",
        "plt.xlim([0, plt.xlim()[1]])\n",
        "plt.ylim([0, plt.ylim()[1]])\n",
        "plt.show()"
      ],
      "execution_count": 27,
      "outputs": [
        {
          "output_type": "display_data",
          "data": {
            "image/png": "[encoded data removed]",
            "text/plain": [
              "<Figure size 576x396 with 1 Axes>"
            ]
          },
          "metadata": {
            "tags": []
          }
        }
      ]
    },
    {
      "cell_type": "code",
      "metadata": {
        "colab": {
          "base_uri": "https://localhost:8080/",
          "height": 361
        },
        "id": "W_6KRjNDhhgV",
        "outputId": "02db5ef1-683b-46af-99f5-90fe89ddc739"
      },
      "source": [
        "errors = testPreds - testLabels\n",
        "plt.hist(errors, numEpochs)\n",
        "plt.xlabel('Error')\n",
        "plt.ylabel('Counts')\n",
        "plt.show()"
      ],
      "execution_count": 29,
      "outputs": [
        {
          "output_type": "display_data",
          "data": {
            "image/png": "[encoded data removed]",
            "text/plain": [
              "<Figure size 576x396 with 1 Axes>"
            ]
          },
          "metadata": {
            "tags": []
          }
        }
      ]
    },
    {
      "cell_type": "code",
      "metadata": {
        "id": "nu84xuobh8Xi"
      },
      "source": [
        ""
      ],
      "execution_count": null,
      "outputs": []
    }
  ]
}